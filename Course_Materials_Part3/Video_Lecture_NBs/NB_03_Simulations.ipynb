{
 "cells": [
  {
   "cell_type": "markdown",
   "metadata": {},
   "source": [
    "# PART 3: Advanced Python, Monte Carlo Simulations and Value-at-Risk (VaR) "
   ]
  },
  {
   "cell_type": "markdown",
   "metadata": {},
   "source": [
    "## Monte Carlo Simulations / Value-at-Risk (VaR)"
   ]
  },
  {
   "cell_type": "markdown",
   "metadata": {},
   "source": [
    "### Analyzing the Data / past Performance"
   ]
  },
  {
   "cell_type": "code",
   "execution_count": null,
   "metadata": {},
   "outputs": [],
   "source": [
    "import numpy as np\n",
    "import matplotlib.pyplot as plt\n",
    "import scipy.stats as stats\n",
    "np.set_printoptions(precision=4, suppress= True)"
   ]
  },
  {
   "cell_type": "code",
   "execution_count": null,
   "metadata": {},
   "outputs": [],
   "source": [
    "sp_returns = np.loadtxt(\"sp_returns2.csv\", delimiter = \",\", usecols = 1)"
   ]
  },
  {
   "cell_type": "code",
   "execution_count": null,
   "metadata": {},
   "outputs": [],
   "source": [
    "sp_returns"
   ]
  },
  {
   "cell_type": "code",
   "execution_count": null,
   "metadata": {},
   "outputs": [],
   "source": [
    "sp_returns.size"
   ]
  },
  {
   "cell_type": "code",
   "execution_count": null,
   "metadata": {},
   "outputs": [],
   "source": [
    "sp_returns.mean()"
   ]
  },
  {
   "cell_type": "code",
   "execution_count": null,
   "metadata": {},
   "outputs": [],
   "source": [
    "sp_returns.std()"
   ]
  },
  {
   "cell_type": "code",
   "execution_count": null,
   "metadata": {},
   "outputs": [],
   "source": [
    "x = np.linspace(-0.1, 0.1, 1000)"
   ]
  },
  {
   "cell_type": "code",
   "execution_count": null,
   "metadata": {},
   "outputs": [],
   "source": [
    "y = stats.norm.pdf(x, loc = sp_returns.mean(), scale = sp_returns.std())"
   ]
  },
  {
   "cell_type": "code",
   "execution_count": null,
   "metadata": {},
   "outputs": [],
   "source": [
    "plt.figure(figsize = (20, 8))\n",
    "plt.hist(sp_returns, density = True, bins = 200, label = \"S&P 500 daily returns 2007-2018\")\n",
    "plt.plot(x, y, label = \"Normal Distribution\")\n",
    "plt.title(\"Normality of S&P 500 daily returns\", fontsize = 20)\n",
    "plt.xlabel(\"daily returns\",  fontsize = 15)\n",
    "plt.legend(fontsize = 15)\n",
    "plt.show()"
   ]
  },
  {
   "cell_type": "code",
   "execution_count": null,
   "metadata": {},
   "outputs": [],
   "source": [
    "stats.skew(sp_returns)"
   ]
  },
  {
   "cell_type": "code",
   "execution_count": null,
   "metadata": {},
   "outputs": [],
   "source": [
    "stats.skewtest(sp_returns)"
   ]
  },
  {
   "cell_type": "code",
   "execution_count": null,
   "metadata": {},
   "outputs": [],
   "source": [
    "stats.kurtosis(sp_returns)"
   ]
  },
  {
   "cell_type": "code",
   "execution_count": null,
   "metadata": {},
   "outputs": [],
   "source": [
    "stats.kurtosistest(sp_returns)"
   ]
  },
  {
   "cell_type": "code",
   "execution_count": null,
   "metadata": {},
   "outputs": [],
   "source": [
    "stats.normaltest(sp_returns)"
   ]
  },
  {
   "cell_type": "code",
   "execution_count": null,
   "metadata": {},
   "outputs": [],
   "source": []
  },
  {
   "cell_type": "markdown",
   "metadata": {},
   "source": [
    "### Value-at-Risk (VaR) - Parametric Method"
   ]
  },
  {
   "cell_type": "markdown",
   "metadata": {},
   "source": [
    "The Investment Fund ABC currently has a __1,000,000 USD__ position in the __S&P 500 Index__. The Risk Manager of the Fund wants to estimate the __tail risk__ (extreme negative outcomes) of this position based on __historical data__ (and forecasts).<br><br>Calculate the __minimum loss__ over a __one-day period__ that will occur with __1%__ probability: __1% Value-at-Risk (VaR) of 1,000,000 USD over a one-day period__. Use the __parametric method__."
   ]
  },
  {
   "cell_type": "code",
   "execution_count": null,
   "metadata": {},
   "outputs": [],
   "source": [
    "import numpy as np\n",
    "import scipy.stats as stats"
   ]
  },
  {
   "cell_type": "code",
   "execution_count": null,
   "metadata": {},
   "outputs": [],
   "source": [
    "sp_returns = np.loadtxt(\"sp_returns2.csv\", delimiter = \",\", usecols = 1)"
   ]
  },
  {
   "cell_type": "code",
   "execution_count": null,
   "metadata": {},
   "outputs": [],
   "source": [
    "sp_returns"
   ]
  },
  {
   "cell_type": "code",
   "execution_count": null,
   "metadata": {},
   "outputs": [],
   "source": [
    "sp_returns.size"
   ]
  },
  {
   "cell_type": "markdown",
   "metadata": {},
   "source": [
    "__1% VaR of 1,000,000 USD over a one-day period__"
   ]
  },
  {
   "cell_type": "code",
   "execution_count": null,
   "metadata": {},
   "outputs": [],
   "source": [
    "I0 = 1000000\n",
    "prob = 0.01"
   ]
  },
  {
   "cell_type": "code",
   "execution_count": null,
   "metadata": {},
   "outputs": [],
   "source": [
    "mean = sp_returns.mean()\n",
    "mean"
   ]
  },
  {
   "cell_type": "code",
   "execution_count": null,
   "metadata": {},
   "outputs": [],
   "source": [
    "std = sp_returns.std()\n",
    "std"
   ]
  },
  {
   "cell_type": "code",
   "execution_count": null,
   "metadata": {
    "scrolled": true
   },
   "outputs": [],
   "source": [
    "stats.norm.ppf(loc = mean, scale = std, q = prob)"
   ]
  },
  {
   "cell_type": "code",
   "execution_count": null,
   "metadata": {},
   "outputs": [],
   "source": [
    "var_p = stats.norm.ppf(loc = mean, scale = std, q = prob) * I0\n",
    "var_p"
   ]
  },
  {
   "cell_type": "markdown",
   "metadata": {},
   "source": [
    "__Using daily mean return = 0%__"
   ]
  },
  {
   "cell_type": "code",
   "execution_count": null,
   "metadata": {},
   "outputs": [],
   "source": [
    "stats.norm.ppf(loc = 0, scale = std, q = prob) * I0"
   ]
  },
  {
   "cell_type": "markdown",
   "metadata": {},
   "source": [
    "__Using a mean return forecast__"
   ]
  },
  {
   "cell_type": "code",
   "execution_count": null,
   "metadata": {},
   "outputs": [],
   "source": [
    "annual = -0.05"
   ]
  },
  {
   "cell_type": "code",
   "execution_count": null,
   "metadata": {},
   "outputs": [],
   "source": [
    "daily = (1 + annual)**(1/252) - 1\n",
    "daily"
   ]
  },
  {
   "cell_type": "code",
   "execution_count": null,
   "metadata": {},
   "outputs": [],
   "source": [
    "stats.norm.ppf(loc = daily, scale = std, q = prob) * I0"
   ]
  },
  {
   "cell_type": "code",
   "execution_count": null,
   "metadata": {},
   "outputs": [],
   "source": []
  },
  {
   "cell_type": "markdown",
   "metadata": {},
   "source": [
    "### Value-at-Risk (VaR) - Historical Method"
   ]
  },
  {
   "cell_type": "markdown",
   "metadata": {},
   "source": [
    "The Investment Fund ABC currently has a __1,000,000 USD__ position in the __S&P 500 Index__. The Risk Manager of the Fund wants to estimate the __tail risk__ (extreme negative outcomes) of this position based on __historical data__ (and forecasts).<br><br>Calculate the __minimum loss__ over a __one-day period__ that will occur with __1%__ probability: __1% Value-at-Risk (VaR) of 1,000,000 USD over a one-day period__. Use the __historical method__."
   ]
  },
  {
   "cell_type": "code",
   "execution_count": null,
   "metadata": {},
   "outputs": [],
   "source": [
    "import numpy as np\n",
    "import matplotlib.pyplot as plt"
   ]
  },
  {
   "cell_type": "code",
   "execution_count": null,
   "metadata": {},
   "outputs": [],
   "source": [
    "sp_returns = np.loadtxt(\"sp_returns2.csv\", delimiter = \",\", usecols = 1)"
   ]
  },
  {
   "cell_type": "code",
   "execution_count": null,
   "metadata": {},
   "outputs": [],
   "source": [
    "sp_returns.size"
   ]
  },
  {
   "cell_type": "markdown",
   "metadata": {},
   "source": [
    "__1% VaR of 1,000,000 USD over a one-day period__"
   ]
  },
  {
   "cell_type": "code",
   "execution_count": null,
   "metadata": {},
   "outputs": [],
   "source": [
    "I0 = 1000000\n",
    "prob = 0.01"
   ]
  },
  {
   "cell_type": "code",
   "execution_count": null,
   "metadata": {},
   "outputs": [],
   "source": [
    "plt.figure(figsize = (20, 8))\n",
    "plt.hist(sp_returns, density = True, bins = 200, label = \"S&P 500 daily returns 2007-2018\")\n",
    "plt.title(\"S&P 500 daily returns\", fontsize = 20)\n",
    "plt.xlabel(\"daily returns\",  fontsize = 15)\n",
    "plt.legend(fontsize = 15)\n",
    "plt.show()"
   ]
  },
  {
   "cell_type": "code",
   "execution_count": null,
   "metadata": {},
   "outputs": [],
   "source": [
    "np.percentile(sp_returns, prob * 100)"
   ]
  },
  {
   "cell_type": "code",
   "execution_count": null,
   "metadata": {},
   "outputs": [],
   "source": [
    "var_h = np.percentile(sp_returns, prob * 100) * I0\n",
    "var_h"
   ]
  },
  {
   "cell_type": "code",
   "execution_count": null,
   "metadata": {},
   "outputs": [],
   "source": []
  },
  {
   "cell_type": "markdown",
   "metadata": {},
   "source": [
    "### Monte Carlo Simulation - Parametric Method (Part 1)"
   ]
  },
  {
   "cell_type": "markdown",
   "metadata": {},
   "source": [
    "The Investment Fund ABC currently has a __1,000,000 USD__ position in the __S&P 500 Index__. The Risk Manager of the Fund wants to estimate the __tail risk__ (extreme negative outcomes) of this position based on __historical data__ (and forecasts).<br><br>Simulate the __minimum loss__ over a __period of one quarter__ that will occur with __1%__ probability: __1% Value-at-Risk (VaR) of 1,000,000 USD over a period of one quarter (63 business days)__. Use the __parametric method__."
   ]
  },
  {
   "cell_type": "code",
   "execution_count": null,
   "metadata": {},
   "outputs": [],
   "source": [
    "import numpy as np\n",
    "import scipy.stats as stats\n",
    "import matplotlib.pyplot as plt\n",
    "np.set_printoptions(precision=4, suppress= True)"
   ]
  },
  {
   "cell_type": "code",
   "execution_count": null,
   "metadata": {},
   "outputs": [],
   "source": [
    "sp_returns = np.loadtxt(\"sp_returns2.csv\", delimiter = \",\", usecols = 1)"
   ]
  },
  {
   "cell_type": "code",
   "execution_count": null,
   "metadata": {},
   "outputs": [],
   "source": [
    "sp_returns"
   ]
  },
  {
   "cell_type": "code",
   "execution_count": null,
   "metadata": {},
   "outputs": [],
   "source": [
    "mean = sp_returns.mean()\n",
    "mean"
   ]
  },
  {
   "cell_type": "code",
   "execution_count": null,
   "metadata": {},
   "outputs": [],
   "source": [
    "std = sp_returns.std()\n",
    "mean"
   ]
  },
  {
   "cell_type": "code",
   "execution_count": null,
   "metadata": {},
   "outputs": [],
   "source": [
    "I0 = 100\n",
    "size = int(252 / 4)"
   ]
  },
  {
   "cell_type": "code",
   "execution_count": null,
   "metadata": {},
   "outputs": [],
   "source": [
    "size"
   ]
  },
  {
   "cell_type": "markdown",
   "metadata": {},
   "source": [
    "__one simulation / path__"
   ]
  },
  {
   "cell_type": "code",
   "execution_count": null,
   "metadata": {
    "scrolled": true
   },
   "outputs": [],
   "source": [
    "np.random.seed(123)\n",
    "ret = np.random.normal(loc = mean, scale = std, size = size)\n",
    "ret"
   ]
  },
  {
   "cell_type": "code",
   "execution_count": null,
   "metadata": {
    "scrolled": false
   },
   "outputs": [],
   "source": [
    "path = (ret + 1).cumprod() * I0\n",
    "path"
   ]
  },
  {
   "cell_type": "code",
   "execution_count": null,
   "metadata": {
    "scrolled": true
   },
   "outputs": [],
   "source": [
    "path = np.insert(path, 0, I0)"
   ]
  },
  {
   "cell_type": "code",
   "execution_count": null,
   "metadata": {},
   "outputs": [],
   "source": [
    "path"
   ]
  },
  {
   "cell_type": "code",
   "execution_count": null,
   "metadata": {},
   "outputs": [],
   "source": [
    "plt.figure(figsize = (12, 8))\n",
    "plt.plot(path)\n",
    "plt.xlabel(\"Days\", fontsize = 13)\n",
    "plt.ylabel(\"Portfolio Value\", fontsize = 13)\n",
    "plt.show()"
   ]
  },
  {
   "cell_type": "code",
   "execution_count": null,
   "metadata": {},
   "outputs": [],
   "source": []
  },
  {
   "cell_type": "markdown",
   "metadata": {},
   "source": [
    "### Monte Carlo Simulation - Parametric Method (Part 2)"
   ]
  },
  {
   "cell_type": "markdown",
   "metadata": {},
   "source": [
    "__many simulations / path__"
   ]
  },
  {
   "cell_type": "code",
   "execution_count": null,
   "metadata": {},
   "outputs": [],
   "source": [
    "sims = 10000\n",
    "days = 63"
   ]
  },
  {
   "cell_type": "code",
   "execution_count": null,
   "metadata": {},
   "outputs": [],
   "source": [
    "np.random.seed(123)\n",
    "ret = np.random.normal(loc = mean, scale = std, size = days * sims).reshape(sims, days)"
   ]
  },
  {
   "cell_type": "code",
   "execution_count": null,
   "metadata": {},
   "outputs": [],
   "source": [
    "ret#.shape"
   ]
  },
  {
   "cell_type": "code",
   "execution_count": null,
   "metadata": {},
   "outputs": [],
   "source": [
    "paths = (ret + 1).cumprod(axis = 1) * I0"
   ]
  },
  {
   "cell_type": "code",
   "execution_count": null,
   "metadata": {},
   "outputs": [],
   "source": [
    "paths"
   ]
  },
  {
   "cell_type": "code",
   "execution_count": null,
   "metadata": {},
   "outputs": [],
   "source": [
    "paths = np.hstack((np.ones(sims).reshape(sims, 1)*100, paths))\n",
    "paths"
   ]
  },
  {
   "cell_type": "code",
   "execution_count": null,
   "metadata": {},
   "outputs": [],
   "source": [
    "def path_simul_param(daily_returns, days, I0, sims = 10000, seed = 123):\n",
    "    \n",
    "    mean = np.mean(daily_returns)\n",
    "    std = np.std(daily_returns)\n",
    "    days = int(days)\n",
    "    \n",
    "    np.random.seed(seed)\n",
    "    ret = np.random.normal(loc = mean, scale = std, size = days * sims).reshape(sims, days)\n",
    "    \n",
    "    paths = (ret + 1).cumprod(axis = 1) * I0\n",
    "    paths = np.hstack((np.ones(sims).reshape(sims, 1) * I0, paths))\n",
    "    return paths"
   ]
  },
  {
   "cell_type": "code",
   "execution_count": null,
   "metadata": {},
   "outputs": [],
   "source": [
    "paths = path_simul_param(daily_returns = sp_returns, days =  63, I0 = 100)"
   ]
  },
  {
   "cell_type": "code",
   "execution_count": null,
   "metadata": {},
   "outputs": [],
   "source": [
    "paths"
   ]
  },
  {
   "cell_type": "code",
   "execution_count": null,
   "metadata": {},
   "outputs": [],
   "source": [
    "paths.shape"
   ]
  },
  {
   "cell_type": "code",
   "execution_count": null,
   "metadata": {},
   "outputs": [],
   "source": [
    "plt.figure(figsize = (20, 12))\n",
    "plt.plot(paths.T)\n",
    "plt.ylabel(\"Portfolio Value\", fontsize = 15)\n",
    "plt.xlabel(\"Days\", fontsize = 15 )\n",
    "plt.title(\"Monte Carlo Simulation - Parametric\", fontsize = 20)\n",
    "plt.show()"
   ]
  },
  {
   "cell_type": "code",
   "execution_count": null,
   "metadata": {},
   "outputs": [],
   "source": [
    "plt.figure(figsize = (20, 12))\n",
    "plt.hist(paths[:, -1], bins = 100)\n",
    "plt.title(\"Portfolio Value in one quarter - Frequency Distribution\", fontsize = 20)\n",
    "plt.xlabel(\"Portfolio Value\", fontsize = 15)\n",
    "plt.ylabel(\"Frequency\", fontsize = 15)\n",
    "plt.show()"
   ]
  },
  {
   "cell_type": "code",
   "execution_count": null,
   "metadata": {},
   "outputs": [],
   "source": []
  },
  {
   "cell_type": "markdown",
   "metadata": {},
   "source": [
    "### Monte Carlo Simulation - Parametric Method (Part 3)"
   ]
  },
  {
   "cell_type": "code",
   "execution_count": null,
   "metadata": {},
   "outputs": [],
   "source": [
    "sims = 1000000\n",
    "I0 = 1000000"
   ]
  },
  {
   "cell_type": "code",
   "execution_count": null,
   "metadata": {},
   "outputs": [],
   "source": [
    "paths = path_simul_param(sp_returns, days = 63, I0 = I0, sims = sims) "
   ]
  },
  {
   "cell_type": "code",
   "execution_count": null,
   "metadata": {},
   "outputs": [],
   "source": [
    "paths.shape"
   ]
  },
  {
   "cell_type": "code",
   "execution_count": null,
   "metadata": {},
   "outputs": [],
   "source": [
    "final_p = paths[:, -1]"
   ]
  },
  {
   "cell_type": "code",
   "execution_count": null,
   "metadata": {},
   "outputs": [],
   "source": [
    "plt.figure(figsize = (20, 12))\n",
    "plt.hist(final_p, bins = 1000, density = True)\n",
    "plt.title(\"Portfolio Value in one quarter\", fontsize = 20)\n",
    "plt.xlabel(\"Portfolio Value\", fontsize = 15)\n",
    "plt.ylabel(\"pdf\", fontsize = 15)\n",
    "plt.show()"
   ]
  },
  {
   "cell_type": "code",
   "execution_count": null,
   "metadata": {
    "scrolled": true
   },
   "outputs": [],
   "source": [
    "final_p.mean()"
   ]
  },
  {
   "cell_type": "code",
   "execution_count": null,
   "metadata": {},
   "outputs": [],
   "source": [
    "np.median(final_p)"
   ]
  },
  {
   "cell_type": "code",
   "execution_count": null,
   "metadata": {},
   "outputs": [],
   "source": [
    "final_p.std()"
   ]
  },
  {
   "cell_type": "code",
   "execution_count": null,
   "metadata": {},
   "outputs": [],
   "source": [
    "stats.skew(final_p)"
   ]
  },
  {
   "cell_type": "markdown",
   "metadata": {},
   "source": [
    "__1% Value-at-Risk (VaR) of 1,000,000 USD over a period of one quarter__"
   ]
  },
  {
   "cell_type": "code",
   "execution_count": null,
   "metadata": {},
   "outputs": [],
   "source": [
    "prob = 0.01"
   ]
  },
  {
   "cell_type": "code",
   "execution_count": null,
   "metadata": {},
   "outputs": [],
   "source": [
    "np.percentile(final_p, prob * 100)"
   ]
  },
  {
   "cell_type": "code",
   "execution_count": null,
   "metadata": {},
   "outputs": [],
   "source": [
    "np.percentile(final_p, prob * 100) - I0"
   ]
  },
  {
   "cell_type": "code",
   "execution_count": null,
   "metadata": {},
   "outputs": [],
   "source": [
    "def var_param(daily_returns, days, prob, I0, sims = 10000, seed = 123):\n",
    "    \n",
    "    mean = np.mean(daily_returns)\n",
    "    std = np.std(daily_returns)\n",
    "    days = int(days)\n",
    "    \n",
    "    np.random.seed(seed)\n",
    "    ret = np.random.normal(loc = mean, scale = std, size = days * sims).reshape(sims, days)\n",
    "    \n",
    "    final = (ret + 1).prod(axis = 1) * I0\n",
    "    var = np.percentile(final, prob) - I0\n",
    "    \n",
    "    return var "
   ]
  },
  {
   "cell_type": "code",
   "execution_count": null,
   "metadata": {},
   "outputs": [],
   "source": [
    "var_param(sp_returns, days = 1, prob = 1, I0 = 1000000, sims = 1000000)"
   ]
  },
  {
   "cell_type": "code",
   "execution_count": null,
   "metadata": {},
   "outputs": [],
   "source": [
    "var_param(sp_returns, days = 63, prob = 1, I0 = 1000000, sims = 1000000)"
   ]
  },
  {
   "cell_type": "code",
   "execution_count": null,
   "metadata": {},
   "outputs": [],
   "source": [
    "var_p1= []\n",
    "for i in range(1, 252+1):\n",
    "    var_p1.append(-var_param(sp_returns, days = i, prob = 1, I0 = 1000000))"
   ]
  },
  {
   "cell_type": "code",
   "execution_count": null,
   "metadata": {},
   "outputs": [],
   "source": [
    "plt.figure(figsize = (12, 8))\n",
    "plt.plot(range(1, 252+1), var_p1)\n",
    "plt.title(\"1% VAR for USD 1,000,000\", fontsize = 20)\n",
    "plt.xlabel(\"Period (in days)\", fontsize = 15)\n",
    "plt.ylabel(\"VaR\", fontsize = 15)\n",
    "plt.show()"
   ]
  },
  {
   "cell_type": "code",
   "execution_count": null,
   "metadata": {},
   "outputs": [],
   "source": [
    "var_p2= []\n",
    "for i in np.linspace(0.1, 5, 100):\n",
    "    var_p2.append(-var_param(sp_returns, days = 63, prob = i, I0 = 1000000))"
   ]
  },
  {
   "cell_type": "code",
   "execution_count": null,
   "metadata": {},
   "outputs": [],
   "source": [
    "plt.figure(figsize = (12, 8))\n",
    "plt.plot(np.linspace(0.1, 5, 100),var_p2)\n",
    "plt.title(\"1% VAR for USD 1,000,000\")\n",
    "plt.title(\"Quarterly VAR for USD 1,000,000\", fontsize = 20)\n",
    "plt.xlabel(\"Probability (in%)\", fontsize = 15)\n",
    "plt.ylabel(\"VaR\", fontsize = 15)\n",
    "plt.show()"
   ]
  },
  {
   "cell_type": "code",
   "execution_count": null,
   "metadata": {},
   "outputs": [],
   "source": []
  },
  {
   "cell_type": "markdown",
   "metadata": {},
   "source": [
    "### Monte Carlo Simulation - Bootstrapping Method (Part 1)"
   ]
  },
  {
   "cell_type": "markdown",
   "metadata": {},
   "source": [
    "The Investment Fund ABC currently has a __1,000,000 USD__ position in the __S&P 500 Index__. The Risk Manager of the Fund wants to estimate the __tail risk__ (extreme negative outcomes) of this position based on __historical data__ (and forecasts).<br><br>Simulate the __minimum loss__ over a __period of one quarter__ that will occur with __1%__ probability: __1% Value-at-Risk (VaR) of 1,000,000 USD over a period of one quarter (63 business days)__. Use the __bootstrapping method__."
   ]
  },
  {
   "cell_type": "code",
   "execution_count": null,
   "metadata": {},
   "outputs": [],
   "source": [
    "import numpy as np\n",
    "import matplotlib.pyplot as plt\n",
    "import scipy.stats as stats"
   ]
  },
  {
   "cell_type": "code",
   "execution_count": null,
   "metadata": {},
   "outputs": [],
   "source": [
    "sp_returns = np.loadtxt(\"sp_returns2.csv\", delimiter = \",\", usecols = 1)"
   ]
  },
  {
   "cell_type": "code",
   "execution_count": null,
   "metadata": {},
   "outputs": [],
   "source": [
    "sp_returns"
   ]
  },
  {
   "cell_type": "code",
   "execution_count": null,
   "metadata": {},
   "outputs": [],
   "source": [
    "sp_returns.size"
   ]
  },
  {
   "cell_type": "code",
   "execution_count": null,
   "metadata": {},
   "outputs": [],
   "source": [
    "I0 = 100\n",
    "sims = 10000\n",
    "days = 63"
   ]
  },
  {
   "cell_type": "code",
   "execution_count": null,
   "metadata": {},
   "outputs": [],
   "source": [
    "def path_simul_bootstr(daily_returns, days, I0, sims = 10000, seed = 123):\n",
    "    \n",
    "    days = int(days)\n",
    "    \n",
    "    np.random.seed(seed)\n",
    "    ret = np.random.choice(daily_returns, size = days * sims, replace = True).reshape(sims, days)\n",
    "    \n",
    "    paths = (ret + 1).cumprod(axis = 1) * I0\n",
    "    paths = np.hstack((np.ones(sims).reshape(sims, 1) * I0, paths))\n",
    "    \n",
    "    return paths"
   ]
  },
  {
   "cell_type": "code",
   "execution_count": null,
   "metadata": {},
   "outputs": [],
   "source": [
    "paths = path_simul_bootstr(sp_returns, days = days, I0 = I0, sims = sims)\n",
    "paths"
   ]
  },
  {
   "cell_type": "code",
   "execution_count": null,
   "metadata": {},
   "outputs": [],
   "source": [
    "paths.shape"
   ]
  },
  {
   "cell_type": "code",
   "execution_count": null,
   "metadata": {},
   "outputs": [],
   "source": [
    "plt.figure(figsize = (20, 12))\n",
    "plt.plot(paths.T)\n",
    "plt.ylabel(\"Portfolio Value\", fontsize = 15)\n",
    "plt.xlabel(\"Days\", fontsize = 15 )\n",
    "plt.title(\"Monte Carlo Simulation - Bootstrapping\", fontsize = 20)\n",
    "plt.show()"
   ]
  },
  {
   "cell_type": "code",
   "execution_count": null,
   "metadata": {},
   "outputs": [],
   "source": [
    "sims = 1000000\n",
    "I0 = 1000000\n",
    "days = 63"
   ]
  },
  {
   "cell_type": "code",
   "execution_count": null,
   "metadata": {},
   "outputs": [],
   "source": [
    "paths = path_simul_bootstr(sp_returns, days = days, I0 = I0, sims = sims)"
   ]
  },
  {
   "cell_type": "code",
   "execution_count": null,
   "metadata": {},
   "outputs": [],
   "source": [
    "final_b = paths[:, -1]"
   ]
  },
  {
   "cell_type": "code",
   "execution_count": null,
   "metadata": {},
   "outputs": [],
   "source": [
    "plt.figure(figsize = (20, 12))\n",
    "plt.hist(final_p, bins = 1000, density = True, alpha = 0.5, color = \"r\")\n",
    "plt.hist(final_b, bins = 1000, density = True, alpha = 0.5, color = \"b\")\n",
    "plt.show()"
   ]
  },
  {
   "cell_type": "code",
   "execution_count": null,
   "metadata": {
    "scrolled": true
   },
   "outputs": [],
   "source": [
    "final_b.mean()"
   ]
  },
  {
   "cell_type": "code",
   "execution_count": null,
   "metadata": {},
   "outputs": [],
   "source": [
    "np.median(final_b)"
   ]
  },
  {
   "cell_type": "code",
   "execution_count": null,
   "metadata": {},
   "outputs": [],
   "source": [
    "final_b.std()"
   ]
  },
  {
   "cell_type": "code",
   "execution_count": null,
   "metadata": {},
   "outputs": [],
   "source": [
    "stats.skew(final_b)"
   ]
  },
  {
   "cell_type": "code",
   "execution_count": null,
   "metadata": {},
   "outputs": [],
   "source": []
  },
  {
   "cell_type": "markdown",
   "metadata": {},
   "source": [
    "### Monte Carlo Simulation - Bootstrapping Method (Part 2)"
   ]
  },
  {
   "cell_type": "markdown",
   "metadata": {},
   "source": [
    "__1% Value-at-Risk (VaR) of 1,000,000 USD over a period of one quarter__"
   ]
  },
  {
   "cell_type": "code",
   "execution_count": null,
   "metadata": {},
   "outputs": [],
   "source": [
    "I0 = 1000000\n",
    "prob = 0.01"
   ]
  },
  {
   "cell_type": "code",
   "execution_count": null,
   "metadata": {},
   "outputs": [],
   "source": [
    "final_b"
   ]
  },
  {
   "cell_type": "code",
   "execution_count": null,
   "metadata": {},
   "outputs": [],
   "source": [
    "final_b.size"
   ]
  },
  {
   "cell_type": "code",
   "execution_count": null,
   "metadata": {},
   "outputs": [],
   "source": [
    "np.percentile(final_b, prob * 100) - I0"
   ]
  },
  {
   "cell_type": "code",
   "execution_count": null,
   "metadata": {},
   "outputs": [],
   "source": [
    "np.percentile(final_p, prob * 100) - I0"
   ]
  },
  {
   "cell_type": "code",
   "execution_count": null,
   "metadata": {},
   "outputs": [],
   "source": [
    "def var_bootstr(daily_returns, days, prob, I0, sims = 10000, seed = 123):\n",
    "    \n",
    "    days = int(days)\n",
    "    \n",
    "    np.random.seed(seed)\n",
    "    ret = np.random.choice(daily_returns, size = days * sims, replace = True).reshape(sims, days)\n",
    "    \n",
    "    paths = (ret + 1).prod(axis = 1) * I0\n",
    "    var = np.percentile(paths, prob) - I0\n",
    "    \n",
    "    return var "
   ]
  },
  {
   "cell_type": "code",
   "execution_count": null,
   "metadata": {
    "scrolled": true
   },
   "outputs": [],
   "source": [
    "var_bootstr(sp_returns, days = 63, prob = 1, I0 = 1000000, sims = 1000000)"
   ]
  },
  {
   "cell_type": "code",
   "execution_count": null,
   "metadata": {},
   "outputs": [],
   "source": [
    "var_b1= []\n",
    "for i in range(1, 252+1):\n",
    "    var_b1.append(-var_bootstr(sp_returns, days = i, prob = 1, I0 = 1000000))"
   ]
  },
  {
   "cell_type": "code",
   "execution_count": null,
   "metadata": {},
   "outputs": [],
   "source": [
    "plt.figure(figsize = (12, 8))\n",
    "plt.plot(range(1, 252+1), var_b1)\n",
    "plt.title(\"1% VAR for USD 1,000,000\", fontsize = 20)\n",
    "plt.xlabel(\"Period (in days)\", fontsize = 15)\n",
    "plt.ylabel(\"VaR\", fontsize = 15)\n",
    "plt.show()"
   ]
  },
  {
   "cell_type": "code",
   "execution_count": null,
   "metadata": {},
   "outputs": [],
   "source": [
    "var_b2= []\n",
    "for i in np.linspace(0.1, 5, 100):\n",
    "    var_b2.append(-var_bootstr(sp_returns, days = 63, prob = i, I0 = 1000000))"
   ]
  },
  {
   "cell_type": "code",
   "execution_count": null,
   "metadata": {},
   "outputs": [],
   "source": [
    "plt.figure(figsize = (12, 8))\n",
    "plt.plot(np.linspace(0.1, 5, 100),var_p2, label = \"Parametric\")\n",
    "plt.plot(np.linspace(0.1, 5, 100),var_b2, label = \"Bootstrapping\")\n",
    "plt.title(\"1% VAR for USD 1,000,000\")\n",
    "plt.title(\"Quarterly VAR for USD 1,000,000\", fontsize = 20)\n",
    "plt.xlabel(\"Probability (in%)\", fontsize = 15)\n",
    "plt.ylabel(\"VaR\", fontsize = 15)\n",
    "plt.legend(fontsize = 15)\n",
    "plt.show()"
   ]
  },
  {
   "cell_type": "code",
   "execution_count": null,
   "metadata": {},
   "outputs": [],
   "source": []
  },
  {
   "cell_type": "markdown",
   "metadata": {},
   "source": [
    "### Conditional Value-at-Risk (CVAR)"
   ]
  },
  {
   "cell_type": "markdown",
   "metadata": {},
   "source": [
    "The Investment Fund ABC currently has a __1,000,000 USD__ position in the S&P 500 Index. The Risk Manager of the Fund wants to estimate the __tail risk__ (extreme negative outcomes) of this position based on historical data (and forecasts).<br><br>\n",
    "__Simulate__ the __conditional expected loss__ over a period of __one quarter__ that will occur with __1% probability__.<br>\n",
    "Use and compare __Parametric__ simulation & __Bootstrapping__ simulation\n"
   ]
  },
  {
   "cell_type": "code",
   "execution_count": null,
   "metadata": {},
   "outputs": [],
   "source": [
    "prob = 0.01"
   ]
  },
  {
   "cell_type": "code",
   "execution_count": null,
   "metadata": {},
   "outputs": [],
   "source": [
    "final_p"
   ]
  },
  {
   "cell_type": "code",
   "execution_count": null,
   "metadata": {},
   "outputs": [],
   "source": [
    "np.percentile(final_p, prob * 100)"
   ]
  },
  {
   "cell_type": "code",
   "execution_count": null,
   "metadata": {},
   "outputs": [],
   "source": [
    "np.percentile(final_p, prob * 100) - I0"
   ]
  },
  {
   "cell_type": "code",
   "execution_count": null,
   "metadata": {},
   "outputs": [],
   "source": [
    "tail_p = final_p[final_p < np.percentile(final_p, prob * 100)]\n",
    "tail_p"
   ]
  },
  {
   "cell_type": "code",
   "execution_count": null,
   "metadata": {},
   "outputs": [],
   "source": [
    "tail_p.mean() - I0"
   ]
  },
  {
   "cell_type": "code",
   "execution_count": null,
   "metadata": {},
   "outputs": [],
   "source": [
    "final_b"
   ]
  },
  {
   "cell_type": "code",
   "execution_count": null,
   "metadata": {},
   "outputs": [],
   "source": [
    "np.percentile(final_b, prob * 100)"
   ]
  },
  {
   "cell_type": "code",
   "execution_count": null,
   "metadata": {},
   "outputs": [],
   "source": [
    "np.percentile(final_b, prob * 100) - I0"
   ]
  },
  {
   "cell_type": "code",
   "execution_count": null,
   "metadata": {},
   "outputs": [],
   "source": [
    "tail_b = final_b[final_b < np.percentile(final_b, prob * 100)]\n",
    "tail_b"
   ]
  },
  {
   "cell_type": "code",
   "execution_count": null,
   "metadata": {},
   "outputs": [],
   "source": [
    "tail_b.mean() - I0"
   ]
  },
  {
   "cell_type": "code",
   "execution_count": null,
   "metadata": {},
   "outputs": [],
   "source": []
  },
  {
   "cell_type": "markdown",
   "metadata": {},
   "source": [
    "### Dynamic & path-dependent Simulations (Part 1)"
   ]
  },
  {
   "cell_type": "markdown",
   "metadata": {},
   "source": [
    "John (65) recently retired. He owns liquid assets worth __625,000 USD__ to cover life expenses during retirement. John´s bank offers to pay a fixed (guaranteed) monthly annuity of 2,635 USD for the next 30 years. \n",
    "Alternatively, John evaluates a diversified Investment Portfolio with an expected long-term __return of 0.5% per month__ with a monthly __standard deviation of 2.5%__ (assume normality). John plans to withdraw __2,800 USD per month__. \n",
    "\n",
    "Simulate/Calculate the __risk of outliving his assets__ prior to his 95th birthday (longevity risk). \n",
    "\n",
    "Formulate and simulate an appropriate __path-dependent strategy__ that 1) __lowers longevity risk to 10%__ or less, and, at the same time 2) __further increases expected income__."
   ]
  },
  {
   "cell_type": "code",
   "execution_count": null,
   "metadata": {},
   "outputs": [],
   "source": [
    "import numpy as np\n",
    "import matplotlib.pyplot as plt"
   ]
  },
  {
   "cell_type": "markdown",
   "metadata": {},
   "source": [
    "__Alt 1: The Annuity Offer (Bank)__"
   ]
  },
  {
   "cell_type": "code",
   "execution_count": null,
   "metadata": {},
   "outputs": [],
   "source": [
    "n = 30\n",
    "m = 12\n",
    "r = 0.03\n",
    "pv = 625000"
   ]
  },
  {
   "cell_type": "code",
   "execution_count": null,
   "metadata": {
    "scrolled": false
   },
   "outputs": [],
   "source": [
    "np.pmt(rate = r/m, nper = n*m, fv = 0, pv = - pv, when = \"end\")"
   ]
  },
  {
   "cell_type": "markdown",
   "metadata": {},
   "source": [
    "__Alt 2: The Investment Portfolio__"
   ]
  },
  {
   "cell_type": "code",
   "execution_count": null,
   "metadata": {},
   "outputs": [],
   "source": [
    "mean_ret = 0.06/12\n",
    "std = 0.025"
   ]
  },
  {
   "cell_type": "code",
   "execution_count": null,
   "metadata": {},
   "outputs": [],
   "source": [
    "annuity = 2800"
   ]
  },
  {
   "cell_type": "code",
   "execution_count": null,
   "metadata": {},
   "outputs": [],
   "source": [
    "np.random.seed(120)\n",
    "ret = np.random.normal(loc = mean_ret, scale = std, size = 1)  \n",
    "ret"
   ]
  },
  {
   "cell_type": "code",
   "execution_count": null,
   "metadata": {},
   "outputs": [],
   "source": [
    "pv * (1 + ret) - annuity"
   ]
  },
  {
   "cell_type": "code",
   "execution_count": null,
   "metadata": {},
   "outputs": [],
   "source": [
    "np.random.seed(123)\n",
    "rets = np.random.normal(loc = mean_ret, scale = std, size = n*m)    \n",
    "\n",
    "value_list = [pv]\n",
    "for i in range(n*m):\n",
    "    value = max(0, value_list[i] * (1 + rets[i]) - annuity)\n",
    "    value_list.append(value)"
   ]
  },
  {
   "cell_type": "code",
   "execution_count": null,
   "metadata": {},
   "outputs": [],
   "source": [
    "value_list"
   ]
  },
  {
   "cell_type": "code",
   "execution_count": null,
   "metadata": {},
   "outputs": [],
   "source": [
    "len(value_list)"
   ]
  },
  {
   "cell_type": "code",
   "execution_count": null,
   "metadata": {},
   "outputs": [],
   "source": [
    "plt.figure(figsize = (12, 8))\n",
    "plt.plot(value_list)\n",
    "plt.grid()\n",
    "plt.title(\"Portfolio Size during Retirement (Sims = 1)\", fontsize = 15)\n",
    "plt.ylabel(\"Portfolio Size\", fontsize = 12)\n",
    "plt.xlabel(\"Term (in months)\", fontsize = 12)\n",
    "plt.show()"
   ]
  },
  {
   "cell_type": "code",
   "execution_count": null,
   "metadata": {},
   "outputs": [],
   "source": []
  },
  {
   "cell_type": "markdown",
   "metadata": {},
   "source": [
    "### Dynamic & path-dependent Simulations (Part 2)"
   ]
  },
  {
   "cell_type": "code",
   "execution_count": null,
   "metadata": {},
   "outputs": [],
   "source": [
    "sims = 20"
   ]
  },
  {
   "cell_type": "code",
   "execution_count": null,
   "metadata": {},
   "outputs": [],
   "source": [
    "sims_array = np.empty(sims * (n * m + 1)).reshape(sims, (n * m + 1))\n",
    "sims_array.shape"
   ]
  },
  {
   "cell_type": "code",
   "execution_count": null,
   "metadata": {},
   "outputs": [],
   "source": [
    "sims_array = np.empty(sims * (n * m + 1)).reshape(sims, n * m + 1)\n",
    "np.random.seed(123)\n",
    "\n",
    "for sim in range(sims):\n",
    "    rets = np.random.normal(loc = mean_ret, scale = std, size = n*m)    \n",
    "    value_list = [pv]\n",
    "    \n",
    "    for i in range(n*m):\n",
    "        value = max(0, value_list[i] * (1 + rets[i]) - annuity)\n",
    "        value_list.append(value)\n",
    "    \n",
    "    sims_array[sim, :] = value_list"
   ]
  },
  {
   "cell_type": "code",
   "execution_count": null,
   "metadata": {},
   "outputs": [],
   "source": [
    "sims_array.shape"
   ]
  },
  {
   "cell_type": "code",
   "execution_count": null,
   "metadata": {},
   "outputs": [],
   "source": [
    "plt.figure(figsize = (12, 8))\n",
    "plt.plot(sims_array.T)\n",
    "plt.grid()\n",
    "plt.title(\"Portfolio Value during Retirement (Sims = {})\".format(sims), fontsize = 15)\n",
    "plt.ylabel(\"Portfolio Value\", fontsize = 12)\n",
    "plt.xlabel(\"Term (in months)\", fontsize = 12)\n",
    "plt.show()"
   ]
  },
  {
   "cell_type": "code",
   "execution_count": null,
   "metadata": {},
   "outputs": [],
   "source": [
    "plt.figure(figsize = (12, 8))\n",
    "plt.hist(sims_array[:, -1], bins= 300)\n",
    "plt.grid()\n",
    "plt.title(\"Portfolio Value at age = 95\", fontsize = 15)\n",
    "plt.xlabel(\"Portfolio Value\", fontsize = 12)\n",
    "plt.ylabel(\"Frequency\", fontsize = 12)\n",
    "plt.show()"
   ]
  },
  {
   "cell_type": "code",
   "execution_count": null,
   "metadata": {},
   "outputs": [],
   "source": [
    "(sims_array[:, -1] == 0).sum() / sims"
   ]
  },
  {
   "cell_type": "code",
   "execution_count": null,
   "metadata": {},
   "outputs": [],
   "source": [
    "def outliving_risk(assets, nper, annuity, mean_ret, std, sims = 10000, seed = 123):\n",
    "    \n",
    "    sims_array = np.empty(sims * (nper + 1)).reshape(sims, nper + 1)\n",
    "    withdrawels = []\n",
    "    np.random.seed(seed)\n",
    "    \n",
    "    for sim in range(sims):\n",
    "        rets = np.random.normal(loc = mean_ret, scale = std, size = nper)    \n",
    "        value_list = [assets]\n",
    "    \n",
    "        for i in range(nper):\n",
    "            withdrawel = min(value_list[i] * (1 + rets[i]), annuity)\n",
    "            withdrawels.append(withdrawel)\n",
    "            value = value_list[i] * (1 + rets[i]) - withdrawel\n",
    "            value_list.append(value)\n",
    "    \n",
    "        sims_array[sim, :] = value_list\n",
    "    \n",
    "    return (sims_array[:, -1] == 0).sum() / sims, np.mean(withdrawels)"
   ]
  },
  {
   "cell_type": "code",
   "execution_count": null,
   "metadata": {},
   "outputs": [],
   "source": [
    "outliving_risk(assets = pv, nper = n*m, annuity = 2800, mean_ret = mean_ret, std = std, sims = 10000)"
   ]
  },
  {
   "cell_type": "code",
   "execution_count": null,
   "metadata": {},
   "outputs": [],
   "source": []
  },
  {
   "cell_type": "markdown",
   "metadata": {},
   "source": [
    "### Dynamic & path-dependent Simulations (Part 3)"
   ]
  },
  {
   "cell_type": "code",
   "execution_count": null,
   "metadata": {},
   "outputs": [],
   "source": [
    "annuities = np.arange(2400, 3400, 10)\n",
    "annuities"
   ]
  },
  {
   "cell_type": "code",
   "execution_count": null,
   "metadata": {},
   "outputs": [],
   "source": [
    "risks = []\n",
    "for i in annuities:\n",
    "    risk = outliving_risk(assets = pv, nper = n*m, annuity = i,\n",
    "                          mean_ret = mean_ret, std = std, sims = 1000)[0]\n",
    "    risks.append(risk)"
   ]
  },
  {
   "cell_type": "code",
   "execution_count": null,
   "metadata": {},
   "outputs": [],
   "source": [
    "risks"
   ]
  },
  {
   "cell_type": "code",
   "execution_count": null,
   "metadata": {},
   "outputs": [],
   "source": [
    "plt.figure(figsize = (12, 8))\n",
    "plt.plot(annuities, risks)\n",
    "plt.grid()\n",
    "plt.title(\"Outliving Risk vs. Annuity\", fontsize = 15)\n",
    "plt.ylabel(\"Risk of Outliving Portfolio Assets\", fontsize = 12)\n",
    "plt.xlabel(\"Annuity (per month)\", fontsize = 12)\n",
    "plt.show()"
   ]
  },
  {
   "cell_type": "code",
   "execution_count": null,
   "metadata": {},
   "outputs": [],
   "source": []
  },
  {
   "cell_type": "markdown",
   "metadata": {},
   "source": [
    "### Dynamic & path-dependent Simulations (Part 4)"
   ]
  },
  {
   "cell_type": "markdown",
   "metadata": {},
   "source": [
    "Formulate and simulate an appropriate __path-dependent strategy__ that 1) lowers __longevity risk__ to __10% or less__, and, at the same time 2) further increases expected income. Assume an acceptable __minimum income of 2200 USD__ per month (reduced annuity)."
   ]
  },
  {
   "cell_type": "markdown",
   "metadata": {},
   "source": [
    "Simple path-dependent Strategy: __Reduce__ withdrawels to 2200 USD, if current __portfolio value is below the target__ level."
   ]
  },
  {
   "cell_type": "markdown",
   "metadata": {},
   "source": [
    "How to calculate the target levels for the next 360 months (__idealized path__)? -> __Bank Annuity Plan__ (equivalent: Amortizing Loan Balances)"
   ]
  },
  {
   "cell_type": "code",
   "execution_count": null,
   "metadata": {},
   "outputs": [],
   "source": [
    "import numpy as np\n",
    "import matplotlib.pyplot as plt"
   ]
  },
  {
   "cell_type": "code",
   "execution_count": null,
   "metadata": {},
   "outputs": [],
   "source": [
    "n = 30\n",
    "m = 12\n",
    "r = 0.03\n",
    "pv = 625000"
   ]
  },
  {
   "cell_type": "code",
   "execution_count": null,
   "metadata": {
    "scrolled": false
   },
   "outputs": [],
   "source": [
    "annuity = np.pmt(rate = r/m, nper = n*m, fv = 0, pv = - pv, when = \"end\")\n",
    "annuity"
   ]
  },
  {
   "cell_type": "code",
   "execution_count": null,
   "metadata": {},
   "outputs": [],
   "source": [
    "balances = np.fv(r/m, nper = range(0, n*m + 1), pmt = annuity, pv = -pv)\n",
    "balances"
   ]
  },
  {
   "cell_type": "code",
   "execution_count": null,
   "metadata": {},
   "outputs": [],
   "source": [
    "plt.figure(figsize = (12, 8))\n",
    "plt.plot(balances)\n",
    "plt.grid()\n",
    "plt.title(\"Amortizing Loan Balances\", fontsize = 15)\n",
    "plt.ylabel(\"Portfolio Value\", fontsize = 12)\n",
    "plt.xlabel(\"Term (in months)\", fontsize = 12)\n",
    "plt.show()"
   ]
  },
  {
   "cell_type": "code",
   "execution_count": null,
   "metadata": {},
   "outputs": [],
   "source": [
    "mean_ret = 0.06/12\n",
    "std = 0.025"
   ]
  },
  {
   "cell_type": "code",
   "execution_count": null,
   "metadata": {},
   "outputs": [],
   "source": [
    "def outliving_risk(assets, nper, annuity, red_annuity, mean_ret, std, balances, sims = 10000, seed = 123):\n",
    "    \n",
    "    sims_array = np.empty(sims * (nper + 1)).reshape(sims, nper + 1)\n",
    "    withdrawels = []\n",
    "    np.random.seed(seed)\n",
    "    \n",
    "    for sim in range(sims):\n",
    "        rets = np.random.normal(loc = mean_ret, scale = std, size = nper)    \n",
    "        value_list = [assets]\n",
    "    \n",
    "        for i in range(nper):\n",
    "            \n",
    "            if value_list[i] < balances[i]:\n",
    "                withdrawel =  min(value_list[i] * (1 + rets[i]), red_annuity)\n",
    "            else:\n",
    "                withdrawel = min(value_list[i] * (1 + rets[i]), annuity)\n",
    "            \n",
    "            withdrawels.append(withdrawel)\n",
    "            value = value_list[i] * (1 + rets[i]) - withdrawel\n",
    "            value_list.append(value)\n",
    "    \n",
    "        sims_array[sim, :] = value_list\n",
    "    \n",
    "    return (sims_array[:, -1] == 0).sum() / sims, np.mean(withdrawels), sims_array"
   ]
  },
  {
   "cell_type": "code",
   "execution_count": null,
   "metadata": {},
   "outputs": [],
   "source": [
    "array = outliving_risk(assets = pv, nper = n*m, annuity = 2800, red_annuity = 2200,\n",
    "                       mean_ret = mean_ret, std = std, balances = balances, sims = 20)[2]"
   ]
  },
  {
   "cell_type": "code",
   "execution_count": null,
   "metadata": {},
   "outputs": [],
   "source": [
    "plt.figure(figsize = (12, 8))\n",
    "plt.plot(balances)\n",
    "plt.plot(array.T)\n",
    "plt.grid()\n",
    "plt.title(\"Amortizing Loan Balances\", fontsize = 15)\n",
    "plt.ylabel(\"Portfolio Value\", fontsize = 12)\n",
    "plt.xlabel(\"Term (in months)\", fontsize = 12)\n",
    "plt.show()"
   ]
  },
  {
   "cell_type": "code",
   "execution_count": null,
   "metadata": {},
   "outputs": [],
   "source": [
    "outliving_risk(assets = pv, nper = n*m, annuity = 3250, red_annuity = 2200,\n",
    "               mean_ret = mean_ret, std = std, balances = balances, sims = 10000)[:2]"
   ]
  },
  {
   "cell_type": "code",
   "execution_count": null,
   "metadata": {},
   "outputs": [],
   "source": []
  }
 ],
 "metadata": {
  "kernelspec": {
   "display_name": "Python 3",
   "language": "python",
   "name": "python3"
  },
  "language_info": {
   "codemirror_mode": {
    "name": "ipython",
    "version": 3
   },
   "file_extension": ".py",
   "mimetype": "text/x-python",
   "name": "python",
   "nbconvert_exporter": "python",
   "pygments_lexer": "ipython3",
   "version": "3.7.4"
  }
 },
 "nbformat": 4,
 "nbformat_minor": 2
}
