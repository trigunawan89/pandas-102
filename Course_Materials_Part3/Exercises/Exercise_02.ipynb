{
 "cells": [
  {
   "cell_type": "markdown",
   "metadata": {},
   "source": [
    "# Coding Exercises (Part 3)"
   ]
  },
  {
   "cell_type": "markdown",
   "metadata": {},
   "source": [
    "Now, you will have the opportunity to practice what you have learned. <br>\n",
    "__Follow the instructions__ and insert your code! "
   ]
  },
  {
   "cell_type": "markdown",
   "metadata": {},
   "source": [
    "The correct answer is provided below your coding cell. There you can check whether your code is correct."
   ]
  },
  {
   "cell_type": "markdown",
   "metadata": {},
   "source": [
    "If you need some help or if you want to check your code, you can also have a look at the __solutions__."
   ]
  },
  {
   "cell_type": "markdown",
   "metadata": {},
   "source": [
    "### Have Fun!"
   ]
  },
  {
   "cell_type": "markdown",
   "metadata": {},
   "source": [
    "--------------------------------------------------------------------------------------------------------------"
   ]
  },
  {
   "cell_type": "markdown",
   "metadata": {},
   "source": [
    "## Exercise 2: User-defined functions"
   ]
  },
  {
   "cell_type": "markdown",
   "metadata": {},
   "source": [
    "1. Create the user-defined function __present_value__ that calculates and returns the __present value of a single future payment__. (assume annual compounding freqeuncy, function should have three parameters). "
   ]
  },
  {
   "cell_type": "code",
   "execution_count": null,
   "metadata": {},
   "outputs": [],
   "source": []
  },
  {
   "cell_type": "code",
   "execution_count": null,
   "metadata": {},
   "outputs": [],
   "source": []
  },
  {
   "cell_type": "markdown",
   "metadata": {},
   "source": [
    "2. __Call the function__ present_value for a __1,000 USD__ payment that occurs in __10 years__. Assume an __interest rate of 5.0%__."
   ]
  },
  {
   "cell_type": "code",
   "execution_count": null,
   "metadata": {},
   "outputs": [],
   "source": []
  },
  {
   "cell_type": "markdown",
   "metadata": {},
   "source": [
    "(result: 613.9132535407591)"
   ]
  },
  {
   "cell_type": "code",
   "execution_count": null,
   "metadata": {},
   "outputs": [],
   "source": []
  },
  {
   "cell_type": "markdown",
   "metadata": {},
   "source": [
    "3. Add the __fourth parameter m__ to the present_value function that allows to set __compounding frequency__ to __monthly/quarterly/semi-annual__. Define a __default argument for m__ in a way that present_value assumes __annual__ compounding frequency by default.  "
   ]
  },
  {
   "cell_type": "code",
   "execution_count": null,
   "metadata": {},
   "outputs": [],
   "source": []
  },
  {
   "cell_type": "code",
   "execution_count": null,
   "metadata": {},
   "outputs": [],
   "source": []
  },
  {
   "cell_type": "markdown",
   "metadata": {},
   "source": [
    "4. __Call present_value__ with same inputs as in __Question 2__, but now assuming __monthly compounding frequency__."
   ]
  },
  {
   "cell_type": "code",
   "execution_count": null,
   "metadata": {},
   "outputs": [],
   "source": []
  },
  {
   "cell_type": "markdown",
   "metadata": {},
   "source": [
    "(result: 607.1610402990219)"
   ]
  },
  {
   "cell_type": "code",
   "execution_count": null,
   "metadata": {},
   "outputs": [],
   "source": []
  },
  {
   "cell_type": "markdown",
   "metadata": {},
   "source": [
    "5. (DIFFICULT!) Create the __function mortgage_loan__ that __calculates and returns__ a __2-dim numpy array__ with __1) total debt payments__, __2) interest component__, __3) amortization component__ and __4) outstanding loan balance__ for each and every period (incl. start). <br>\n",
    "(As an example: the numpy array for a loan with a term of 48 months shall have 49 rows (for each period incl. start) and 4 columns) <br><br>"
   ]
  },
  {
   "cell_type": "markdown",
   "metadata": {},
   "source": [
    "The function mortgage_loan shall have the __following parameters__:\n",
    "- Initial Loan Amount / Balance -> __pv__\n",
    "- Term (number of periods) -> __nper__\n",
    "- stated annual interest rate -> __r__\n",
    "- final Loan Balance at Maturity -> __fv__\n",
    "- compounding frequency -> __m__ (default argument m = 12)"
   ]
  },
  {
   "cell_type": "code",
   "execution_count": null,
   "metadata": {},
   "outputs": [],
   "source": [
    "# run the cell\n",
    "import numpy as np\n",
    "np.set_printoptions(precision=2, suppress= True)"
   ]
  },
  {
   "cell_type": "code",
   "execution_count": null,
   "metadata": {},
   "outputs": [],
   "source": [
    "def mortgage_loan(pv, nper, r, fv, m = 12):\n",
    "    \n",
    "    array = np.empty((nper+1) * 4).reshape(nper+1, 4) #creating the empty array\n",
    "    array[0,[0, 1, 2]] = 0 # initial payments (total, interest, amortization) at inception (t = 0) are 0\n",
    "    \n",
    "    #complete the code!\n",
    "    \n",
    "    \n",
    "    \n",
    "    \n",
    "    \n",
    "    \n",
    "    \n",
    "    "
   ]
  },
  {
   "cell_type": "code",
   "execution_count": null,
   "metadata": {},
   "outputs": [],
   "source": []
  },
  {
   "cell_type": "markdown",
   "metadata": {},
   "source": [
    "6. __Call mortgage_loan__ for a loan with the following terms:   "
   ]
  },
  {
   "cell_type": "markdown",
   "metadata": {},
   "source": [
    "- __800,000 USD__ Initial Balance\n",
    "- 20 years -> __240 months__\n",
    "- __4.25%__ stated annual interest rate\n",
    "- final Loan Balance after 20 years: __0 USD__\n",
    "- __monthly__ compounding frequency"
   ]
  },
  {
   "cell_type": "code",
   "execution_count": null,
   "metadata": {},
   "outputs": [],
   "source": []
  },
  {
   "cell_type": "markdown",
   "metadata": {},
   "source": [
    "(the total debt payment per month is 4953.88)"
   ]
  },
  {
   "cell_type": "code",
   "execution_count": null,
   "metadata": {},
   "outputs": [],
   "source": []
  },
  {
   "cell_type": "markdown",
   "metadata": {},
   "source": [
    "7. __Visualize__ the remaining __Loan Balance__ over time."
   ]
  },
  {
   "cell_type": "code",
   "execution_count": null,
   "metadata": {},
   "outputs": [],
   "source": [
    "# run the cell!\n",
    "import matplotlib.pyplot as plt"
   ]
  },
  {
   "cell_type": "code",
   "execution_count": null,
   "metadata": {},
   "outputs": [],
   "source": []
  },
  {
   "cell_type": "code",
   "execution_count": null,
   "metadata": {},
   "outputs": [],
   "source": []
  },
  {
   "cell_type": "code",
   "execution_count": null,
   "metadata": {},
   "outputs": [],
   "source": []
  },
  {
   "cell_type": "code",
   "execution_count": null,
   "metadata": {},
   "outputs": [],
   "source": []
  },
  {
   "cell_type": "markdown",
   "metadata": {},
   "source": [
    "# Well Done!"
   ]
  },
  {
   "cell_type": "markdown",
   "metadata": {},
   "source": [
    "---------------------------------------------------------------------------------------------------------------------"
   ]
  },
  {
   "cell_type": "markdown",
   "metadata": {},
   "source": [
    "# Solutions (Stop here if you want to code on your own!)"
   ]
  },
  {
   "cell_type": "markdown",
   "metadata": {},
   "source": [
    "# ++++++++++++++++++++++++++++++++++++++++++++++++++++++++++++++"
   ]
  },
  {
   "cell_type": "code",
   "execution_count": null,
   "metadata": {},
   "outputs": [],
   "source": []
  },
  {
   "cell_type": "markdown",
   "metadata": {},
   "source": [
    "1. Create the user-defined function __present_value__ that calculates and returns the __present value of a single future payment__. (assume annual compounding freqeuncy, function should have three parameters). "
   ]
  },
  {
   "cell_type": "code",
   "execution_count": null,
   "metadata": {},
   "outputs": [],
   "source": [
    "def present_value(fv, rate, nper):\n",
    "    pv = fv / (1 + rate)**nper\n",
    "    return pv"
   ]
  },
  {
   "cell_type": "code",
   "execution_count": null,
   "metadata": {},
   "outputs": [],
   "source": []
  },
  {
   "cell_type": "markdown",
   "metadata": {},
   "source": [
    "2. __Call the function__ present_value for a __1,000 USD__ payment that occurs in __10 years__. Assume an __interest rate of 5.0%__."
   ]
  },
  {
   "cell_type": "code",
   "execution_count": null,
   "metadata": {},
   "outputs": [],
   "source": [
    "present_value(fv = 1000, rate = 0.05, nper = 10)"
   ]
  },
  {
   "cell_type": "markdown",
   "metadata": {},
   "source": [
    "(result: 613.9132535407591)"
   ]
  },
  {
   "cell_type": "code",
   "execution_count": null,
   "metadata": {},
   "outputs": [],
   "source": []
  },
  {
   "cell_type": "markdown",
   "metadata": {},
   "source": [
    "3. Add the __fourth parameter m__ to the present_value function that allows to set __compounding frequency__ to __monthly/quarterly/semi-annual__. Define a __default argument for m__ in a way that present_value assumes __annual__ compounding frequency by default.  "
   ]
  },
  {
   "cell_type": "code",
   "execution_count": null,
   "metadata": {},
   "outputs": [],
   "source": [
    "def present_value(fv, rate, nper, m = 1):\n",
    "    pv = fv / (1 + rate/m)**(nper*m)\n",
    "    return pv"
   ]
  },
  {
   "cell_type": "code",
   "execution_count": null,
   "metadata": {},
   "outputs": [],
   "source": []
  },
  {
   "cell_type": "markdown",
   "metadata": {},
   "source": [
    "4. __Call present_value__ with same inputs as in __Question 2__, but now assuming __monthly compounding frequency__."
   ]
  },
  {
   "cell_type": "code",
   "execution_count": null,
   "metadata": {},
   "outputs": [],
   "source": [
    "present_value(fv = 1000, rate = 0.05, nper = 10, m = 12)"
   ]
  },
  {
   "cell_type": "markdown",
   "metadata": {},
   "source": [
    "(result: 607.1610402990219)"
   ]
  },
  {
   "cell_type": "code",
   "execution_count": null,
   "metadata": {},
   "outputs": [],
   "source": []
  },
  {
   "cell_type": "markdown",
   "metadata": {},
   "source": [
    "5. (DIFFICULT!) Create the __function mortgage_loan__ that __calculates and returns__ a __2-dim numpy array__ with __1) total debt payments__, __2) interest component__, __3) amortization component__ and __4) outstanding loan balance__ for each and every period (incl. start). <br>\n",
    "(As an example: the numpy array for a loan with a term of 48 months shall have 49 rows (for each period incl. start) and 4 columns) <br><br>"
   ]
  },
  {
   "cell_type": "markdown",
   "metadata": {},
   "source": [
    "The function mortgage_loan shall have the __following parameters__:\n",
    "- Initial Loan Amount / Balance -> __pv__\n",
    "- Term (number of periods) -> __nper__\n",
    "- stated annual interest rate -> __r__\n",
    "- final Loan Balance at Maturity -> __fv__\n",
    "- compounding frequency -> __m__ (default argument m = 12)"
   ]
  },
  {
   "cell_type": "code",
   "execution_count": null,
   "metadata": {},
   "outputs": [],
   "source": [
    "# run the cell\n",
    "import numpy as np\n",
    "np.set_printoptions(precision=2, suppress= True)"
   ]
  },
  {
   "cell_type": "code",
   "execution_count": null,
   "metadata": {},
   "outputs": [],
   "source": [
    "def mortgage_loan(pv, nper, r, fv, m = 12):\n",
    "    \n",
    "    array = np.empty((nper+1) * 4).reshape(nper+1, 4) \n",
    "    array[0,[0, 1, 2]] = 0\n",
    "    total = np.pmt(rate = r/m, nper = nper, pv = pv, fv = fv)\n",
    "    array[1:, 0] = total\n",
    "    array[1:, 1] = np.ppmt(rate = r/m, per = range(1, nper + 1), nper = nper, pv = pv, fv = fv)\n",
    "    array[1:, 2] = np.ipmt(rate = r/m, per = range(1, nper + 1), nper = nper, pv = pv, fv = fv)\n",
    "    array[:, 3] = -np.fv(rate = r/m, nper = range(nper + 1), pmt = total, pv = pv)\n",
    "    \n",
    "    return array"
   ]
  },
  {
   "cell_type": "code",
   "execution_count": null,
   "metadata": {},
   "outputs": [],
   "source": []
  },
  {
   "cell_type": "markdown",
   "metadata": {},
   "source": [
    "6. __Call mortgage_loan__ for a loan with the following terms:   "
   ]
  },
  {
   "cell_type": "markdown",
   "metadata": {},
   "source": [
    "- __800,000 USD__ Initial Balance\n",
    "- 20 years -> __240 months__\n",
    "- __4.25%__ stated annual interest rate\n",
    "- final Loan Balance after 20 years: __0 USD__\n",
    "- __monthly__ compounding frequency"
   ]
  },
  {
   "cell_type": "code",
   "execution_count": null,
   "metadata": {},
   "outputs": [],
   "source": [
    "mortgage_loan(pv = 800000, nper = 240, r = 0.0425, fv = 0, m = 12)"
   ]
  },
  {
   "cell_type": "markdown",
   "metadata": {},
   "source": [
    "(the total debt payment per month is 4953.88)"
   ]
  },
  {
   "cell_type": "code",
   "execution_count": null,
   "metadata": {},
   "outputs": [],
   "source": []
  },
  {
   "cell_type": "markdown",
   "metadata": {},
   "source": [
    "7. __Visualize__ the remaining __Loan Balance__ over time."
   ]
  },
  {
   "cell_type": "code",
   "execution_count": null,
   "metadata": {},
   "outputs": [],
   "source": [
    "import matplotlib.pyplot as plt"
   ]
  },
  {
   "cell_type": "code",
   "execution_count": null,
   "metadata": {},
   "outputs": [],
   "source": [
    "balance = mortgage_loan(pv = 800000, nper = 240, r = 0.0425, fv = 0, m = 12)[:, -1]"
   ]
  },
  {
   "cell_type": "code",
   "execution_count": null,
   "metadata": {},
   "outputs": [],
   "source": [
    "balance"
   ]
  },
  {
   "cell_type": "code",
   "execution_count": null,
   "metadata": {},
   "outputs": [],
   "source": [
    "plt.figure(figsize = (12 , 8))\n",
    "plt.plot(range(240+1), balance)\n",
    "plt.show()"
   ]
  },
  {
   "cell_type": "code",
   "execution_count": null,
   "metadata": {},
   "outputs": [],
   "source": []
  }
 ],
 "metadata": {
  "kernelspec": {
   "display_name": "Python 3",
   "language": "python",
   "name": "python3"
  },
  "language_info": {
   "codemirror_mode": {
    "name": "ipython",
    "version": 3
   },
   "file_extension": ".py",
   "mimetype": "text/x-python",
   "name": "python",
   "nbconvert_exporter": "python",
   "pygments_lexer": "ipython3",
   "version": "3.7.4"
  }
 },
 "nbformat": 4,
 "nbformat_minor": 2
}
