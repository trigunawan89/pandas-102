{
 "cells": [
  {
   "cell_type": "markdown",
   "metadata": {},
   "source": [
    "# Coding Exercises (Part 3)"
   ]
  },
  {
   "cell_type": "markdown",
   "metadata": {},
   "source": [
    "Now, you will have the opportunity to practice what you have learned. <br>\n",
    "__Follow the instructions__ and insert your code! "
   ]
  },
  {
   "cell_type": "markdown",
   "metadata": {},
   "source": [
    "The correct answer is provided below your coding cell. There you can check whether your code is correct."
   ]
  },
  {
   "cell_type": "markdown",
   "metadata": {},
   "source": [
    "If you need some help or if you want to check your code, you can also have a look at the __solutions__."
   ]
  },
  {
   "cell_type": "markdown",
   "metadata": {},
   "source": [
    "### Have Fun!"
   ]
  },
  {
   "cell_type": "markdown",
   "metadata": {},
   "source": [
    "--------------------------------------------------------------------------------------------------------------"
   ]
  },
  {
   "cell_type": "markdown",
   "metadata": {},
   "source": [
    "## Exercise 3: Monte Carlo Simulations / Value-at-Risk"
   ]
  },
  {
   "cell_type": "code",
   "execution_count": null,
   "metadata": {},
   "outputs": [],
   "source": [
    "# run the cell!\n",
    "import numpy as np\n",
    "import scipy.stats as stats"
   ]
  },
  {
   "cell_type": "code",
   "execution_count": null,
   "metadata": {},
   "outputs": [],
   "source": [
    "# run the cell!\n",
    "sp_returns = np.loadtxt(\"sp_returns2.csv\", delimiter = \",\", usecols = 1)\n",
    "sp_returns"
   ]
  },
  {
   "cell_type": "markdown",
   "metadata": {},
   "source": [
    "The Investment Fund XYZ currently has a __20,000,000 USD__ position in the __S&P 500 Index__. The Risk Manager of the Fund wants to estimate the __tail risk__ (extreme negative outcomes) of this position based on __historical data__ (and forecasts).<br><br>1. Calculate the __minimum loss__ over a __one-day period__ that will occur with __0.1%__ probability: __0.1% Value-at-Risk (VaR) of 20,000,000 USD over a one-day period__. Use the __parametric method__ (assume normality of returns)."
   ]
  },
  {
   "cell_type": "code",
   "execution_count": null,
   "metadata": {},
   "outputs": [],
   "source": []
  },
  {
   "cell_type": "code",
   "execution_count": null,
   "metadata": {},
   "outputs": [],
   "source": []
  },
  {
   "cell_type": "code",
   "execution_count": null,
   "metadata": {},
   "outputs": [],
   "source": []
  },
  {
   "cell_type": "code",
   "execution_count": null,
   "metadata": {},
   "outputs": [],
   "source": []
  },
  {
   "cell_type": "markdown",
   "metadata": {},
   "source": [
    "(result: -766282.1716648465)"
   ]
  },
  {
   "cell_type": "code",
   "execution_count": null,
   "metadata": {},
   "outputs": [],
   "source": []
  },
  {
   "cell_type": "markdown",
   "metadata": {},
   "source": [
    "2. Calculate the __minimum loss__ over a __one-day period__ that will occur with __0.1%__ probability: __0.1% Value-at-Risk (VaR) of 20,000,000 USD over a one-day period__. Use the __historical method__."
   ]
  },
  {
   "cell_type": "code",
   "execution_count": null,
   "metadata": {},
   "outputs": [],
   "source": []
  },
  {
   "cell_type": "markdown",
   "metadata": {},
   "source": [
    "(result: -1520085.6249729295)"
   ]
  },
  {
   "cell_type": "code",
   "execution_count": null,
   "metadata": {},
   "outputs": [],
   "source": []
  },
  {
   "cell_type": "markdown",
   "metadata": {},
   "source": [
    "3. Calculate the __expected loss__ over a __one-day period__ that will occur with __0.1%__ probability: __0.1% Conditional Value-at-Risk (CVaR) of 20,000,000 USD over a one-day period__. Use the __historical method__."
   ]
  },
  {
   "cell_type": "code",
   "execution_count": null,
   "metadata": {},
   "outputs": [],
   "source": []
  },
  {
   "cell_type": "code",
   "execution_count": null,
   "metadata": {},
   "outputs": [],
   "source": []
  },
  {
   "cell_type": "markdown",
   "metadata": {},
   "source": [
    "(result: -1719399.6703488464)"
   ]
  },
  {
   "cell_type": "code",
   "execution_count": null,
   "metadata": {},
   "outputs": [],
   "source": []
  },
  {
   "cell_type": "markdown",
   "metadata": {},
   "source": [
    "__We continue with the dynamic & path-dependent retirement planning for John (65) (see Video Lectures).__ <br>"
   ]
  },
  {
   "cell_type": "markdown",
   "metadata": {},
   "source": [
    "We have already created the user-defined function __outliving_risk__ that returns the __risk of outliving the assets__ and the __average/expected monthly withdrawel__ amount (and the full sims_array)."
   ]
  },
  {
   "cell_type": "code",
   "execution_count": null,
   "metadata": {},
   "outputs": [],
   "source": [
    "# run the cell!\n",
    "\n",
    "def outliving_risk(assets, nper, annuity, red_annuity, mean_ret, std, balances, sims = 10000, seed = 123):\n",
    "    \n",
    "    sims_array = np.empty(sims * (nper + 1)).reshape(sims, nper + 1)\n",
    "    withdrawels = []\n",
    "    np.random.seed(seed)\n",
    "    \n",
    "    for sim in range(sims):\n",
    "        rets = np.random.normal(loc = mean_ret, scale = std, size = nper)    \n",
    "        value_list = [assets]\n",
    "    \n",
    "        for i in range(nper):\n",
    "            \n",
    "            if value_list[i] < balances[i]:\n",
    "                withdrawel =  min(value_list[i] * (1 + rets[i]), red_annuity)\n",
    "            else:\n",
    "                withdrawel = min(value_list[i] * (1 + rets[i]), annuity)\n",
    "            \n",
    "            withdrawels.append(withdrawel)\n",
    "            value = value_list[i] * (1 + rets[i]) - withdrawel\n",
    "            value_list.append(value)\n",
    "    \n",
    "        sims_array[sim, :] = value_list\n",
    "    \n",
    "    return (sims_array[:, -1] == 0).sum() / sims, np.mean(withdrawels), sims_array"
   ]
  },
  {
   "cell_type": "markdown",
   "metadata": {},
   "source": [
    "The expected __long-term return__ for his portfolio is __0.5%__ per month with a monthly __standard deviation of 2.5%__. "
   ]
  },
  {
   "cell_type": "code",
   "execution_count": null,
   "metadata": {},
   "outputs": [],
   "source": [
    "# run the cell!\n",
    "\n",
    "mean_ret = 0.06/12\n",
    "std = 0.025"
   ]
  },
  {
   "cell_type": "markdown",
   "metadata": {},
   "source": [
    "In the following we calculate the __idealized (target) balances of his portfolio__ for the next 30 Years (0 USD in 30 years)."
   ]
  },
  {
   "cell_type": "code",
   "execution_count": null,
   "metadata": {},
   "outputs": [],
   "source": [
    "# run the cell!\n",
    "\n",
    "n = 30\n",
    "m = 12\n",
    "r = 0.03\n",
    "pv = 625000"
   ]
  },
  {
   "cell_type": "code",
   "execution_count": null,
   "metadata": {},
   "outputs": [],
   "source": [
    "# run the cell!\n",
    "\n",
    "annuity = np.pmt(rate = r/m, nper = n*m, fv = 0, pv = - pv, when = \"end\")\n",
    "annuity"
   ]
  },
  {
   "cell_type": "code",
   "execution_count": null,
   "metadata": {
    "scrolled": true
   },
   "outputs": [],
   "source": [
    "# run the cell!\n",
    "\n",
    "balances = np.fv(r/m, nper = range(0, n*m + 1), pmt = annuity, pv = -pv)\n",
    "balances"
   ]
  },
  {
   "cell_type": "markdown",
   "metadata": {},
   "source": [
    "Finally, we could manage to define the following __path-dependent strategy__ (included in the function outliving_risk):\n",
    "- reduced monthly withdrawel = __2200__ if __portfolio balance < target balance__\n",
    "- __else__: monthly withdrawel = __3250__\n",
    "\n",
    "to lower __longevity risk to 9.55%__ and to increase expected/average income to __3,065 USD__."
   ]
  },
  {
   "cell_type": "code",
   "execution_count": null,
   "metadata": {},
   "outputs": [],
   "source": [
    "# run the cell\n",
    "\n",
    "outliving_risk(assets = pv, nper = n*m, annuity = 3250, red_annuity = 2200,\n",
    "               mean_ret = mean_ret, std = std, balances = balances, sims = 10000)[:2]"
   ]
  },
  {
   "cell_type": "markdown",
   "metadata": {},
   "source": [
    "4. __Adjust__ the function __outliving_risk__ in way that allows John to __extract the upside__ in the very well performing paths (and increase expected income). <br>\n",
    "Add the follwing path-dependent rule: if portfolio balance is __more than 50% higher__ than target balance, __increase the annuity (3250) by x%__. Select x in a way that longevity risk is still __lower than 10%__.   "
   ]
  },
  {
   "cell_type": "code",
   "execution_count": null,
   "metadata": {},
   "outputs": [],
   "source": [
    "# Adjust!\n",
    "\n",
    "def outliving_risk(assets, nper, annuity, red_annuity, mean_ret, std, balances, sims = 10000, seed = 123):\n",
    "    \n",
    "    sims_array = np.empty(sims * (nper + 1)).reshape(sims, nper + 1)\n",
    "    withdrawels = []\n",
    "    np.random.seed(seed)\n",
    "    \n",
    "    for sim in range(sims):\n",
    "        rets = np.random.normal(loc = mean_ret, scale = std, size = nper)    \n",
    "        value_list = [assets]\n",
    "    \n",
    "        for i in range(nper):\n",
    "            \n",
    "            if value_list[i] < balances[i]:\n",
    "                withdrawel =  min(value_list[i] * (1 + rets[i]), red_annuity)\n",
    "            else:\n",
    "                withdrawel = min(value_list[i] * (1 + rets[i]), annuity)\n",
    "            \n",
    "            withdrawels.append(withdrawel)\n",
    "            value = value_list[i] * (1 + rets[i]) - withdrawel\n",
    "            value_list.append(value)\n",
    "    \n",
    "        sims_array[sim, :] = value_list\n",
    "    \n",
    "    return (sims_array[:, -1] == 0).sum() / sims, np.mean(withdrawels), sims_array"
   ]
  },
  {
   "cell_type": "code",
   "execution_count": null,
   "metadata": {},
   "outputs": [],
   "source": [
    "# run and check!\n",
    "outliving_risk(assets = pv, nper = n*m, annuity = 3250, red_annuity = 2200,\n",
    "               mean_ret = mean_ret, std = std, balances = balances, sims = 10000)[:2]"
   ]
  },
  {
   "cell_type": "markdown",
   "metadata": {},
   "source": [
    "(result: x could be up to 24%, -> increasing expected income to 3415.37)"
   ]
  },
  {
   "cell_type": "code",
   "execution_count": null,
   "metadata": {},
   "outputs": [],
   "source": []
  },
  {
   "cell_type": "markdown",
   "metadata": {},
   "source": [
    "# Well Done!"
   ]
  },
  {
   "cell_type": "markdown",
   "metadata": {},
   "source": [
    "---------------------------------------------------------------------------------------------------------------------"
   ]
  },
  {
   "cell_type": "markdown",
   "metadata": {},
   "source": [
    "# Solutions (Stop here if you want to code on your own!)"
   ]
  },
  {
   "cell_type": "markdown",
   "metadata": {},
   "source": [
    "__++++++++++++++++++++++++++++++++++++++++++++++++++++++++++++++++++++++++++++++++++++++++++++++++++++++++++++++++++++++__"
   ]
  },
  {
   "cell_type": "code",
   "execution_count": null,
   "metadata": {},
   "outputs": [],
   "source": [
    "# run the cell!\n",
    "import numpy as np\n",
    "import scipy.stats as stats"
   ]
  },
  {
   "cell_type": "code",
   "execution_count": null,
   "metadata": {},
   "outputs": [],
   "source": [
    "# run the cell!\n",
    "sp_returns = np.loadtxt(\"sp_returns2.csv\", delimiter = \",\", usecols = 1)\n",
    "sp_returns"
   ]
  },
  {
   "cell_type": "markdown",
   "metadata": {},
   "source": [
    "The Investment Fund XYZ currently has a __20,000,000 USD__ position in the __S&P 500 Index__. The Risk Manager of the Fund wants to estimate the __tail risk__ (extreme negative outcomes) of this position based on __historical data__ (and forecasts).<br><br>1. Calculate the __minimum loss__ over a __one-day period__ that will occur with __0.1%__ probability: __0.1% Value-at-Risk (VaR) of 20,000,000 USD over a one-day period__. Use the __parametric method__ (assume normality of returns)."
   ]
  },
  {
   "cell_type": "code",
   "execution_count": null,
   "metadata": {},
   "outputs": [],
   "source": [
    "prob = 0.001\n",
    "I0 = 20000000"
   ]
  },
  {
   "cell_type": "code",
   "execution_count": null,
   "metadata": {},
   "outputs": [],
   "source": [
    "mean = sp_returns.mean()\n",
    "mean"
   ]
  },
  {
   "cell_type": "code",
   "execution_count": null,
   "metadata": {},
   "outputs": [],
   "source": [
    "std = sp_returns.std()\n",
    "std"
   ]
  },
  {
   "cell_type": "code",
   "execution_count": null,
   "metadata": {},
   "outputs": [],
   "source": [
    "var_p = stats.norm.ppf(loc = mean, scale = std, q = prob) * I0\n",
    "var_p"
   ]
  },
  {
   "cell_type": "markdown",
   "metadata": {},
   "source": [
    "(result: -766282.1716648465)"
   ]
  },
  {
   "cell_type": "code",
   "execution_count": null,
   "metadata": {},
   "outputs": [],
   "source": []
  },
  {
   "cell_type": "markdown",
   "metadata": {},
   "source": [
    "2. Calculate the __minimum loss__ over a __one-day period__ that will occur with __0.1%__ probability: __0.1% Value-at-Risk (VaR) of 20,000,000 USD over a one-day period__. Use the __historical method__."
   ]
  },
  {
   "cell_type": "code",
   "execution_count": null,
   "metadata": {},
   "outputs": [],
   "source": [
    "var_h = np.percentile(sp_returns, prob * 100) * I0\n",
    "var_h"
   ]
  },
  {
   "cell_type": "markdown",
   "metadata": {},
   "source": [
    "(result: -1520085.6249729295)"
   ]
  },
  {
   "cell_type": "markdown",
   "metadata": {},
   "source": [
    "3. Calculate the __expected loss__ over a __one-day period__ that will occur with __0.1%__ probability: __0.1% Conditional Value-at-Risk (CVaR) of 20,000,000 USD over a one-day period__. Use the __historical method__."
   ]
  },
  {
   "cell_type": "code",
   "execution_count": null,
   "metadata": {},
   "outputs": [],
   "source": [
    "tail = sp_returns[sp_returns < np.percentile(sp_returns, prob * 100)] * I0\n",
    "tail"
   ]
  },
  {
   "cell_type": "code",
   "execution_count": null,
   "metadata": {},
   "outputs": [],
   "source": [
    "tail.mean()"
   ]
  },
  {
   "cell_type": "markdown",
   "metadata": {},
   "source": [
    "(result: -1719399.6703488464)"
   ]
  },
  {
   "cell_type": "code",
   "execution_count": null,
   "metadata": {},
   "outputs": [],
   "source": []
  },
  {
   "cell_type": "markdown",
   "metadata": {},
   "source": [
    "__We continue with the dynamic & path-dependent retirement planning for John (65) (see Video Lectures).__ <br>"
   ]
  },
  {
   "cell_type": "markdown",
   "metadata": {},
   "source": [
    "We have already created the user-defined function __outliving_risk__ that returns the __risk of outliving the assets__ and the __average/expected monthly withdrawel__ amount."
   ]
  },
  {
   "cell_type": "code",
   "execution_count": null,
   "metadata": {},
   "outputs": [],
   "source": [
    "# run the cell!\n",
    "\n",
    "def outliving_risk(assets, nper, annuity, red_annuity, mean_ret, std, balances, sims = 10000, seed = 123):\n",
    "    \n",
    "    sims_array = np.empty(sims * (nper + 1)).reshape(sims, nper + 1)\n",
    "    withdrawels = []\n",
    "    np.random.seed(seed)\n",
    "    \n",
    "    for sim in range(sims):\n",
    "        rets = np.random.normal(loc = mean_ret, scale = std, size = nper)    \n",
    "        value_list = [assets]\n",
    "    \n",
    "        for i in range(nper):\n",
    "            \n",
    "            if value_list[i] < balances[i]:\n",
    "                withdrawel =  min(value_list[i] * (1 + rets[i]), red_annuity)\n",
    "            else:\n",
    "                withdrawel = min(value_list[i] * (1 + rets[i]), annuity)\n",
    "            \n",
    "            withdrawels.append(withdrawel)\n",
    "            value = value_list[i] * (1 + rets[i]) - withdrawel\n",
    "            value_list.append(value)\n",
    "    \n",
    "        sims_array[sim, :] = value_list\n",
    "    \n",
    "    return (sims_array[:, -1] == 0).sum() / sims, np.mean(withdrawels)"
   ]
  },
  {
   "cell_type": "markdown",
   "metadata": {},
   "source": [
    "The expected __long-term return__ for his portfolio is __0.5%__ per month with a monthly __standard deviation of 2.5%__. "
   ]
  },
  {
   "cell_type": "code",
   "execution_count": null,
   "metadata": {},
   "outputs": [],
   "source": [
    "# run the cell!\n",
    "\n",
    "mean_ret = 0.06/12\n",
    "std = 0.025"
   ]
  },
  {
   "cell_type": "markdown",
   "metadata": {},
   "source": [
    "In the following we calculate the __idealized (target) balances of his portfolio__ for the next 30 Years (0 USD in 30 years)."
   ]
  },
  {
   "cell_type": "code",
   "execution_count": null,
   "metadata": {},
   "outputs": [],
   "source": [
    "# run the cell!\n",
    "\n",
    "n = 30\n",
    "m = 12\n",
    "r = 0.03\n",
    "pv = 625000"
   ]
  },
  {
   "cell_type": "code",
   "execution_count": null,
   "metadata": {},
   "outputs": [],
   "source": [
    "# run the cell!\n",
    "\n",
    "annuity = np.pmt(rate = r/m, nper = n*m, fv = 0, pv = - pv, when = \"end\")\n",
    "annuity"
   ]
  },
  {
   "cell_type": "code",
   "execution_count": null,
   "metadata": {
    "scrolled": true
   },
   "outputs": [],
   "source": [
    "# run the cell!\n",
    "\n",
    "balances = np.fv(r/m, nper = range(0, n*m + 1), pmt = annuity, pv = -pv)\n",
    "balances"
   ]
  },
  {
   "cell_type": "markdown",
   "metadata": {},
   "source": [
    "Finally, we could manage to define the following __path-dependent strategy__ (included in the function outliving_risk):\n",
    "- reduced monthly withdrawel = __2200__ if __portfolio balance < target balance__\n",
    "- __else__: monthly withdrawel = __3250__\n",
    "\n",
    "to lower __longevity risk to 9.55%__ and to increase expected/average income to __3,065 USD__."
   ]
  },
  {
   "cell_type": "code",
   "execution_count": null,
   "metadata": {},
   "outputs": [],
   "source": [
    "# run the cell\n",
    "\n",
    "outliving_risk(assets = pv, nper = n*m, annuity = 3250, red_annuity = 2200,\n",
    "               mean_ret = mean_ret, std = std, balances = balances, sims = 10000)[:2]"
   ]
  },
  {
   "cell_type": "code",
   "execution_count": null,
   "metadata": {},
   "outputs": [],
   "source": []
  },
  {
   "cell_type": "markdown",
   "metadata": {},
   "source": [
    "4. __Adjust__ the function __outliving_risk__ in way that allows John to __extract the upside__ in the very well performing paths (and increase expected income). <br>\n",
    "Add the follwing path-dependent rule: if portfolio balance is __more than 50% higher__ than target balance, __increase the annuity (3250) by x%__. Select x in a way that longevity risk is still __lower than 10%__.   "
   ]
  },
  {
   "cell_type": "code",
   "execution_count": null,
   "metadata": {},
   "outputs": [],
   "source": [
    "def outliving_risk(assets, nper, annuity, red_annuity, mean_ret, std, balances, sims = 10000, seed = 123):\n",
    "    \n",
    "    sims_array = np.empty(sims * (nper + 1)).reshape(sims, nper + 1)\n",
    "    withdrawels = []\n",
    "    np.random.seed(seed)\n",
    "    \n",
    "    for sim in range(sims):\n",
    "        rets = np.random.normal(loc = mean_ret, scale = std, size = nper)    \n",
    "        value_list = [assets]\n",
    "    \n",
    "        for i in range(nper):\n",
    "            \n",
    "            if value_list[i] < balances[i]:\n",
    "                withdrawel =  min(value_list[i] * (1 + rets[i]), red_annuity)\n",
    "            elif value_list[i] > 1.5 * balances[i]:\n",
    "                withdrawel =  min(value_list[i] * (1 + rets[i]), annuity * 1.24)\n",
    "            else:\n",
    "                withdrawel = min(value_list[i] * (1 + rets[i]), annuity)\n",
    "            \n",
    "            withdrawels.append(withdrawel)\n",
    "            value = value_list[i] * (1 + rets[i]) - withdrawel\n",
    "            value_list.append(value)\n",
    "    \n",
    "        sims_array[sim, :] = value_list\n",
    "    \n",
    "    return (sims_array[:, -1] == 0).sum() / sims, np.mean(withdrawels), sims_array"
   ]
  },
  {
   "cell_type": "code",
   "execution_count": null,
   "metadata": {},
   "outputs": [],
   "source": [
    "outliving_risk(assets = pv, nper = n*m, annuity = 3250, red_annuity = 2200,\n",
    "               mean_ret = mean_ret, std = std, balances = balances, sims = 10000)[:2]"
   ]
  },
  {
   "cell_type": "markdown",
   "metadata": {},
   "source": [
    "(result: x could be up to 24% -> increasing expected income to 3415.37)"
   ]
  },
  {
   "cell_type": "code",
   "execution_count": null,
   "metadata": {},
   "outputs": [],
   "source": []
  }
 ],
 "metadata": {
  "kernelspec": {
   "display_name": "Python 3",
   "language": "python",
   "name": "python3"
  },
  "language_info": {
   "codemirror_mode": {
    "name": "ipython",
    "version": 3
   },
   "file_extension": ".py",
   "mimetype": "text/x-python",
   "name": "python",
   "nbconvert_exporter": "python",
   "pygments_lexer": "ipython3",
   "version": "3.7.4"
  }
 },
 "nbformat": 4,
 "nbformat_minor": 2
}
