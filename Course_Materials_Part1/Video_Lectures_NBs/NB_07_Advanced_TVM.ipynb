{
 "cells": [
  {
   "cell_type": "markdown",
   "metadata": {},
   "source": [
    "# Part 1: Python Basics - Code Time Value of Money and Capital Budgeting "
   ]
  },
  {
   "cell_type": "markdown",
   "metadata": {},
   "source": [
    "## Advanced TVM and Capital Budgeting with Numpy Financial Functions"
   ]
  },
  {
   "cell_type": "markdown",
   "metadata": {},
   "source": [
    "### Evaluating Investments with np.npv() and np.irr()"
   ]
  },
  {
   "cell_type": "code",
   "execution_count": null,
   "metadata": {},
   "outputs": [],
   "source": [
    "import numpy as np"
   ]
  },
  {
   "cell_type": "markdown",
   "metadata": {},
   "source": [
    "The XYZ Company evaluates to buy a new machine that will increase profits/cashflows for XYZ by \n",
    "- 20 USD in t1, \n",
    "- 50 USD in t2, \n",
    "- 70 USD in t3, \n",
    "- 100 USD in t4 and \n",
    "- 50 USD in t5.<br>\n",
    "\n",
    "The machine costs 200 USD (Investment in to). Calculate the __Project´s NPV__ and __IRR__ and evaluate whether XYZ should pursue the project. <br> XYZs required rate of return is 6%."
   ]
  },
  {
   "cell_type": "code",
   "execution_count": null,
   "metadata": {},
   "outputs": [],
   "source": [
    "cf = np.array([-200, 20, 50, 70, 100, 50])\n",
    "r = 0.06"
   ]
  },
  {
   "cell_type": "code",
   "execution_count": null,
   "metadata": {},
   "outputs": [],
   "source": [
    "np.npv(r, cf)"
   ]
  },
  {
   "cell_type": "code",
   "execution_count": null,
   "metadata": {},
   "outputs": [],
   "source": [
    "np.npv(r, cf) > 0"
   ]
  },
  {
   "cell_type": "code",
   "execution_count": null,
   "metadata": {},
   "outputs": [],
   "source": [
    "np.irr(cf)"
   ]
  },
  {
   "cell_type": "code",
   "execution_count": null,
   "metadata": {},
   "outputs": [],
   "source": [
    "np.irr(cf) > r"
   ]
  },
  {
   "cell_type": "markdown",
   "metadata": {},
   "source": [
    "The XYZ Company issued a 10Y Senior Unsecured Bond one year ago with a Coupon Rate of 5.0% (annual payments in arrears). Today´s Bond Price is 107.5 (per 100 par Value). Calculate the Bond´s __current YTM__."
   ]
  },
  {
   "cell_type": "code",
   "execution_count": null,
   "metadata": {},
   "outputs": [],
   "source": [
    "cf = [5] * 9"
   ]
  },
  {
   "cell_type": "code",
   "execution_count": null,
   "metadata": {},
   "outputs": [],
   "source": [
    "cf[-1] = cf[-1] + 100"
   ]
  },
  {
   "cell_type": "code",
   "execution_count": null,
   "metadata": {},
   "outputs": [],
   "source": [
    "cf.insert(0, -107.5)"
   ]
  },
  {
   "cell_type": "code",
   "execution_count": null,
   "metadata": {},
   "outputs": [],
   "source": [
    "cf"
   ]
  },
  {
   "cell_type": "code",
   "execution_count": null,
   "metadata": {},
   "outputs": [],
   "source": [
    "np.irr(cf)"
   ]
  },
  {
   "cell_type": "code",
   "execution_count": null,
   "metadata": {},
   "outputs": [],
   "source": []
  },
  {
   "cell_type": "markdown",
   "metadata": {},
   "source": [
    "### Evaluating Annuities with np.fv() - funding phase"
   ]
  },
  {
   "cell_type": "code",
   "execution_count": null,
   "metadata": {},
   "outputs": [],
   "source": [
    "import numpy as np"
   ]
  },
  {
   "cell_type": "markdown",
   "metadata": {},
   "source": [
    "You save 2,000 USD p.a. for the next 25 Years (payment at year end) and get an interest rate of 3% p.a. on your savings. <br>\n",
    "What is the value of your savings account (__FV__) in 25 years?"
   ]
  },
  {
   "cell_type": "code",
   "execution_count": null,
   "metadata": {},
   "outputs": [],
   "source": [
    "PV = 0\n",
    "cf = -2000\n",
    "r = 0.03\n",
    "n = 25"
   ]
  },
  {
   "cell_type": "code",
   "execution_count": null,
   "metadata": {},
   "outputs": [],
   "source": [
    "FV = np.fv(rate = r, nper = n, pmt = cf, pv = PV)"
   ]
  },
  {
   "cell_type": "code",
   "execution_count": null,
   "metadata": {},
   "outputs": [],
   "source": [
    "FV"
   ]
  },
  {
   "cell_type": "markdown",
   "metadata": {},
   "source": [
    "Same Problem, but now you start with an initial balance of 10,000 USD."
   ]
  },
  {
   "cell_type": "code",
   "execution_count": null,
   "metadata": {},
   "outputs": [],
   "source": [
    "PV = -10000\n",
    "cf = -2000\n",
    "r = 0.03\n",
    "n = 25"
   ]
  },
  {
   "cell_type": "code",
   "execution_count": null,
   "metadata": {},
   "outputs": [],
   "source": [
    "FV = np.fv(rate = r, nper = n, pmt = cf, pv = PV)"
   ]
  },
  {
   "cell_type": "code",
   "execution_count": null,
   "metadata": {},
   "outputs": [],
   "source": [
    "FV"
   ]
  },
  {
   "cell_type": "code",
   "execution_count": null,
   "metadata": {},
   "outputs": [],
   "source": [
    "np.fv(rate = r, nper = n, pmt = 0, pv = PV)"
   ]
  },
  {
   "cell_type": "code",
   "execution_count": null,
   "metadata": {},
   "outputs": [],
   "source": [
    "10000 * (1 + r)**n"
   ]
  },
  {
   "cell_type": "code",
   "execution_count": null,
   "metadata": {},
   "outputs": [],
   "source": []
  },
  {
   "cell_type": "markdown",
   "metadata": {},
   "source": [
    "### Evaluating Annuities with np.fv() - payout phase"
   ]
  },
  {
   "cell_type": "code",
   "execution_count": null,
   "metadata": {},
   "outputs": [],
   "source": [
    "import numpy as np"
   ]
  },
  {
   "cell_type": "markdown",
   "metadata": {},
   "source": [
    "At Retirement, you have an Annuity Contract worth 100,000 USD. Assume you get payouts of 5,000 USD p.a. (in arrears) and a fixed interest rate of 3% p.a.\n",
    "What is the remaining value of your Contract after 25 years?"
   ]
  },
  {
   "cell_type": "code",
   "execution_count": null,
   "metadata": {},
   "outputs": [],
   "source": [
    "PV = 100000\n",
    "cf = 5000\n",
    "r = 0.03"
   ]
  },
  {
   "cell_type": "code",
   "execution_count": null,
   "metadata": {},
   "outputs": [],
   "source": [
    "PV * (1 + r) - cf"
   ]
  },
  {
   "cell_type": "code",
   "execution_count": null,
   "metadata": {},
   "outputs": [],
   "source": [
    "(PV * (1 + r) - cf) * (1 + r) - cf"
   ]
  },
  {
   "cell_type": "code",
   "execution_count": null,
   "metadata": {},
   "outputs": [],
   "source": [
    "PV = -100000\n",
    "cf = 5000\n",
    "r = 0.03\n",
    "n = 25"
   ]
  },
  {
   "cell_type": "code",
   "execution_count": null,
   "metadata": {},
   "outputs": [],
   "source": [
    "FV = np.fv(rate = r, nper = n, pmt = cf, pv = PV)\n",
    "FV"
   ]
  },
  {
   "cell_type": "code",
   "execution_count": null,
   "metadata": {},
   "outputs": [],
   "source": []
  },
  {
   "cell_type": "markdown",
   "metadata": {},
   "source": [
    "### Solving for annuity payments with np.pmt() "
   ]
  },
  {
   "cell_type": "code",
   "execution_count": null,
   "metadata": {},
   "outputs": [],
   "source": [
    "import numpy as np"
   ]
  },
  {
   "cell_type": "markdown",
   "metadata": {},
   "source": [
    "You consider to pay 25 annual installments (in arrears) into an Annuity Contract with an interest rate of 3% p.a. Calculate the annual payments to end up with a Contract Value of 100,000 USD in 25 years. "
   ]
  },
  {
   "cell_type": "code",
   "execution_count": null,
   "metadata": {},
   "outputs": [],
   "source": [
    "PV = 0\n",
    "FV = 100000\n",
    "n = 25\n",
    "r = 0.03"
   ]
  },
  {
   "cell_type": "code",
   "execution_count": null,
   "metadata": {},
   "outputs": [],
   "source": [
    "cf = np.pmt(rate = r, nper = n, pv = PV, fv = FV)\n",
    "cf"
   ]
  },
  {
   "cell_type": "code",
   "execution_count": null,
   "metadata": {},
   "outputs": [],
   "source": [
    "np.fv(rate = r, nper = n, pmt = cf, pv = 0)"
   ]
  },
  {
   "cell_type": "code",
   "execution_count": null,
   "metadata": {},
   "outputs": [],
   "source": []
  },
  {
   "cell_type": "markdown",
   "metadata": {},
   "source": [
    "### Solving for the number of periodic payments with np.nper()"
   ]
  },
  {
   "cell_type": "markdown",
   "metadata": {},
   "source": [
    "You consider to pay N annual installments of 2,500 USD (in arrears) into an Annuity Contract with an interest rate of 3% p.a. Calculate the time / number of periods until you end up with an Contract Value of 100,000 USD. "
   ]
  },
  {
   "cell_type": "code",
   "execution_count": null,
   "metadata": {},
   "outputs": [],
   "source": [
    "import numpy as np"
   ]
  },
  {
   "cell_type": "code",
   "execution_count": null,
   "metadata": {},
   "outputs": [],
   "source": [
    "PV = 0\n",
    "FV = 100000\n",
    "r = 0.03\n",
    "cf = -2500"
   ]
  },
  {
   "cell_type": "code",
   "execution_count": null,
   "metadata": {},
   "outputs": [],
   "source": [
    "np.nper(rate = r, pmt = cf, pv = PV, fv = FV)"
   ]
  },
  {
   "cell_type": "code",
   "execution_count": null,
   "metadata": {},
   "outputs": [],
   "source": []
  },
  {
   "cell_type": "markdown",
   "metadata": {},
   "source": [
    "### Calculating the required Contract Value with np.pv()"
   ]
  },
  {
   "cell_type": "markdown",
   "metadata": {},
   "source": [
    "At Retirement, you have an Annuity Contract worth x USD. Assume you get payouts of 5,000 USD p.a. (in arrears) and a fixed interest rate of 3% p.a. The remaining value of your Contract after 25 years should be 20,000 USD. Calculate the required initial Contract Value (__PV__)!"
   ]
  },
  {
   "cell_type": "code",
   "execution_count": null,
   "metadata": {},
   "outputs": [],
   "source": [
    "import numpy as np"
   ]
  },
  {
   "cell_type": "code",
   "execution_count": null,
   "metadata": {},
   "outputs": [],
   "source": [
    "FV = 20000\n",
    "r = 0.03\n",
    "n = 25\n",
    "cf = 5000"
   ]
  },
  {
   "cell_type": "code",
   "execution_count": null,
   "metadata": {},
   "outputs": [],
   "source": [
    "PV = np.pv(rate = r, nper = n, pmt = cf, fv = FV)"
   ]
  },
  {
   "cell_type": "code",
   "execution_count": null,
   "metadata": {},
   "outputs": [],
   "source": [
    "PV"
   ]
  },
  {
   "cell_type": "code",
   "execution_count": null,
   "metadata": {},
   "outputs": [],
   "source": []
  },
  {
   "cell_type": "markdown",
   "metadata": {},
   "source": [
    "### Frequency of compounding and the effective annual interest rate"
   ]
  },
  {
   "cell_type": "code",
   "execution_count": null,
   "metadata": {},
   "outputs": [],
   "source": [
    "PV = 100\n",
    "r = 0.03\n",
    "n = 2"
   ]
  },
  {
   "cell_type": "code",
   "execution_count": null,
   "metadata": {},
   "outputs": [],
   "source": [
    "FV = PV * (1 + r)**n"
   ]
  },
  {
   "cell_type": "code",
   "execution_count": null,
   "metadata": {},
   "outputs": [],
   "source": [
    "FV"
   ]
  },
  {
   "cell_type": "markdown",
   "metadata": {},
   "source": [
    "You have 100 USD today and you save it for two years at a __stated annual interest rate of 3%__. The Compounding frequency is __quarterly__. <br>\n",
    "Calculate the Future Value (in two years) and the __effective interest rate__."
   ]
  },
  {
   "cell_type": "code",
   "execution_count": null,
   "metadata": {},
   "outputs": [],
   "source": [
    "PV = 100\n",
    "m = 4\n",
    "r = 0.03\n",
    "n = 2"
   ]
  },
  {
   "cell_type": "code",
   "execution_count": null,
   "metadata": {},
   "outputs": [],
   "source": [
    "FV = PV * (1 + r/m)**(n*m)"
   ]
  },
  {
   "cell_type": "code",
   "execution_count": null,
   "metadata": {},
   "outputs": [],
   "source": [
    "FV"
   ]
  },
  {
   "cell_type": "code",
   "execution_count": null,
   "metadata": {},
   "outputs": [],
   "source": [
    "er = (1 + r/m)**m - 1\n",
    "er"
   ]
  },
  {
   "cell_type": "code",
   "execution_count": null,
   "metadata": {},
   "outputs": [],
   "source": [
    "er = (FV / PV)**(1/n) - 1 \n",
    "er"
   ]
  },
  {
   "cell_type": "code",
   "execution_count": null,
   "metadata": {},
   "outputs": [],
   "source": []
  },
  {
   "cell_type": "markdown",
   "metadata": {},
   "source": [
    "### Evaluating a complete Retirement Plan A-Z"
   ]
  },
  {
   "cell_type": "markdown",
   "metadata": {},
   "source": [
    "Assume a 30-year-old investor wants to retire in 35 years at the age of 65. He will earn 4.0% p.a. on his Investment during the Funding Phase (already fixed) and he expects to earn 3.0% p.a. on his Investment during the Payout Phase (fixed upon retirement). How much must he deposit at the end of each month for the next 35 years in order to be able to withdraw 2,500 USD per month (at the beginning of each month) for 25 years? The Annuity Contract´s final Value shall be 100,000 USD when he is 90 years old (to cover some more years).  "
   ]
  },
  {
   "cell_type": "markdown",
   "metadata": {},
   "source": [
    "__Step 1: Payout Phase__"
   ]
  },
  {
   "cell_type": "code",
   "execution_count": null,
   "metadata": {},
   "outputs": [],
   "source": [
    "import numpy as np"
   ]
  },
  {
   "cell_type": "code",
   "execution_count": null,
   "metadata": {},
   "outputs": [],
   "source": [
    "m = 12\n",
    "cf_2 = 2500\n",
    "n_2 = 25\n",
    "FV_2 = 100000\n",
    "r_2 = 0.03"
   ]
  },
  {
   "cell_type": "code",
   "execution_count": null,
   "metadata": {},
   "outputs": [],
   "source": [
    "PV_2 = np.pv(rate = r_2/m, nper = n_2*m, pmt = cf_2, fv = FV_2, when = \"begin\")\n",
    "PV_2"
   ]
  },
  {
   "cell_type": "markdown",
   "metadata": {},
   "source": [
    "__Step 2: Funding Phase__"
   ]
  },
  {
   "cell_type": "code",
   "execution_count": null,
   "metadata": {},
   "outputs": [],
   "source": [
    "m = 12\n",
    "n_1 = 35\n",
    "FV_1 = -PV_2\n",
    "r_1 = 0.04\n",
    "PV_1 = 0"
   ]
  },
  {
   "cell_type": "code",
   "execution_count": null,
   "metadata": {},
   "outputs": [],
   "source": [
    "cf_1 = np.pmt(rate = r_1/m, nper = n_1*m, pv = PV_1, fv = FV_1)\n",
    "cf_1"
   ]
  },
  {
   "cell_type": "code",
   "execution_count": null,
   "metadata": {},
   "outputs": [],
   "source": []
  },
  {
   "cell_type": "code",
   "execution_count": null,
   "metadata": {},
   "outputs": [],
   "source": []
  },
  {
   "cell_type": "markdown",
   "metadata": {},
   "source": [
    "### Retirement Plan: Sensitivity Analysis"
   ]
  },
  {
   "cell_type": "code",
   "execution_count": null,
   "metadata": {},
   "outputs": [],
   "source": [
    "np.arange(0.005, 0.065, 0.005)"
   ]
  },
  {
   "cell_type": "code",
   "execution_count": null,
   "metadata": {},
   "outputs": [],
   "source": [
    "m = 12\n",
    "cf_2 = 2500\n",
    "n_2 = 25\n",
    "FV_2 = 100000\n",
    "r_2 = np.arange(0.005, 0.065, 0.005)"
   ]
  },
  {
   "cell_type": "code",
   "execution_count": null,
   "metadata": {},
   "outputs": [],
   "source": [
    "PV_2 = np.pv(rate = r_2/m, nper = n_2*m, pmt = cf_2, fv = FV_2, when = \"begin\")\n",
    "PV_2"
   ]
  },
  {
   "cell_type": "code",
   "execution_count": null,
   "metadata": {},
   "outputs": [],
   "source": [
    "m = 12\n",
    "n_1 = 35\n",
    "FV_1 = -PV_2\n",
    "r_1 = 0.04\n",
    "PV_1 = 0"
   ]
  },
  {
   "cell_type": "code",
   "execution_count": null,
   "metadata": {},
   "outputs": [],
   "source": [
    "cf_1 = np.pmt(rate = r_1/m, nper = n_1*m, pv = PV_1, fv = FV_1)\n",
    "cf_1"
   ]
  },
  {
   "cell_type": "code",
   "execution_count": null,
   "metadata": {},
   "outputs": [],
   "source": [
    "import matplotlib.pyplot as plt"
   ]
  },
  {
   "cell_type": "code",
   "execution_count": null,
   "metadata": {},
   "outputs": [],
   "source": [
    "plt.plot(np.arange(0.005, 0.065, 0.005), np.abs(cf_1))\n",
    "plt.grid()\n",
    "plt.xlabel(\"Interest Rate in Payout Phase\")\n",
    "plt.ylabel(\"Required monthly Funding Amount\")\n",
    "plt.show()"
   ]
  },
  {
   "cell_type": "code",
   "execution_count": null,
   "metadata": {},
   "outputs": [],
   "source": []
  },
  {
   "cell_type": "markdown",
   "metadata": {},
   "source": [
    "### Amortizing Mortgage Loan - Debt Sizing"
   ]
  },
  {
   "cell_type": "markdown",
   "metadata": {},
   "source": [
    "You consider to buy a new home for a Purchase Price of 400,000 USD. You have 150,000 USD in your savings account. Therefore, you require another 250,000 USD from a Bank (Amortizing Mortgage) to realize the Deal. Your local Bank quotes the following Mortgage terms:\n",
    "- Initial Loan Amount shall not exceed 75% of Purchase Price.\n",
    "- Fixed interest rate: 5.0% p.a. (compounded monthly)\n",
    "- Initial Term with fixed interest rate is 30 years\n",
    "- Outstanding Loan Amount after 30 Years shall not exceed 100,000 USD\n",
    "- Loan payments (interest & amortization) shall be made monthly in arrears\n",
    "- Monthly loan payments shall not exceed 1/3 of your current available monthly income of 4,800 USD \n",
    "\n",
    "Calculate the __effective annual interest rate__. <br>\n",
    "__Maximize the Loan Amount__ (and minimize the funding required from your savings account)! <br>\n",
    "Calculate __interest component__, __amortization component__ and __outstanding loan__ balance throughout the term and __visualize__! "
   ]
  },
  {
   "cell_type": "code",
   "execution_count": null,
   "metadata": {},
   "outputs": [],
   "source": [
    "import numpy as np"
   ]
  },
  {
   "cell_type": "code",
   "execution_count": null,
   "metadata": {},
   "outputs": [],
   "source": [
    "m = 12\n",
    "pp = 400000\n",
    "max_LTV = 0.75\n",
    "r = 0.05\n",
    "available_income = 4800\n",
    "DSCR = 3/1\n",
    "cf = -available_income / DSCR\n",
    "n = 30\n",
    "FV = -100000"
   ]
  },
  {
   "cell_type": "code",
   "execution_count": null,
   "metadata": {},
   "outputs": [],
   "source": [
    "er = (1 + r/m)**m - 1 \n",
    "er"
   ]
  },
  {
   "cell_type": "code",
   "execution_count": null,
   "metadata": {},
   "outputs": [],
   "source": [
    "cf"
   ]
  },
  {
   "cell_type": "code",
   "execution_count": null,
   "metadata": {},
   "outputs": [],
   "source": [
    "PV = np.pv(rate = r/m, nper = n*m, pmt = cf, fv = FV)\n",
    "PV"
   ]
  },
  {
   "cell_type": "code",
   "execution_count": null,
   "metadata": {},
   "outputs": [],
   "source": [
    "print(\"The Initial Loan Amount is {} USD!\".format(min(PV, max_LTV * pp)))"
   ]
  },
  {
   "cell_type": "code",
   "execution_count": null,
   "metadata": {},
   "outputs": [],
   "source": []
  },
  {
   "cell_type": "markdown",
   "metadata": {},
   "source": [
    "### Amortizing Mortgage Loan - Interest Payments and Amortization Schedule "
   ]
  },
  {
   "cell_type": "markdown",
   "metadata": {},
   "source": [
    "Calculate __interest component__, __amortization component__ and __outstanding loan__ balance throughout the term and __visualize__! "
   ]
  },
  {
   "cell_type": "code",
   "execution_count": null,
   "metadata": {},
   "outputs": [],
   "source": [
    "import numpy as np"
   ]
  },
  {
   "cell_type": "code",
   "execution_count": null,
   "metadata": {},
   "outputs": [],
   "source": [
    "m = 12\n",
    "loan = 300000\n",
    "r = 0.05\n",
    "cf = -1600\n",
    "n = 30"
   ]
  },
  {
   "cell_type": "code",
   "execution_count": null,
   "metadata": {},
   "outputs": [],
   "source": [
    "300000 * (1 + r/m) + cf"
   ]
  },
  {
   "cell_type": "code",
   "execution_count": null,
   "metadata": {},
   "outputs": [],
   "source": [
    "300000 * r/m"
   ]
  },
  {
   "cell_type": "code",
   "execution_count": null,
   "metadata": {},
   "outputs": [],
   "source": [
    "(300000 * (1 + r/m) + cf) * (1 + r/m) + cf"
   ]
  },
  {
   "cell_type": "code",
   "execution_count": null,
   "metadata": {},
   "outputs": [],
   "source": [
    "np.fv(rate = r/m, nper = n*m, pmt = cf, pv = loan)"
   ]
  },
  {
   "cell_type": "code",
   "execution_count": null,
   "metadata": {},
   "outputs": [],
   "source": [
    "final_balance = np.fv(rate = r/m, nper = n*m, pmt = cf, pv = loan)\n",
    "final_balance"
   ]
  },
  {
   "cell_type": "code",
   "execution_count": null,
   "metadata": {},
   "outputs": [],
   "source": [
    "range(n*m + 1)"
   ]
  },
  {
   "cell_type": "code",
   "execution_count": null,
   "metadata": {
    "scrolled": true
   },
   "outputs": [],
   "source": [
    "rem_loan = np.fv(rate = r/m, nper = range(n*m + 1), pmt = cf, pv = loan)\n",
    "rem_loan"
   ]
  },
  {
   "cell_type": "code",
   "execution_count": null,
   "metadata": {},
   "outputs": [],
   "source": [
    "np.ppmt(rate = r/m, per = 1, nper = n*m, pv = loan, fv = final_balance)"
   ]
  },
  {
   "cell_type": "code",
   "execution_count": null,
   "metadata": {
    "scrolled": true
   },
   "outputs": [],
   "source": [
    "amort = np.ppmt(rate = r/m, per = range(1, n*m + 1), nper = n*m, pv = loan, fv = final_balance)\n",
    "amort"
   ]
  },
  {
   "cell_type": "code",
   "execution_count": null,
   "metadata": {},
   "outputs": [],
   "source": [
    "np.ipmt(rate = r/m, per = 1, nper = n*m, pv = loan, fv = final_balance)"
   ]
  },
  {
   "cell_type": "code",
   "execution_count": null,
   "metadata": {
    "scrolled": true
   },
   "outputs": [],
   "source": [
    "interest = np.ipmt(rate = r/m, per = range(1, n*m + 1), nper = n*m, pv = loan, fv = final_balance)\n",
    "interest"
   ]
  },
  {
   "cell_type": "code",
   "execution_count": null,
   "metadata": {
    "scrolled": true
   },
   "outputs": [],
   "source": [
    "amort + interest"
   ]
  },
  {
   "cell_type": "code",
   "execution_count": null,
   "metadata": {},
   "outputs": [],
   "source": [
    "import matplotlib.pyplot as plt"
   ]
  },
  {
   "cell_type": "code",
   "execution_count": null,
   "metadata": {},
   "outputs": [],
   "source": [
    "plt.figure(figsize = (12, 8))\n",
    "plt.bar(range(0, n*m + 1), -rem_loan)\n",
    "plt.title(\"Remaining Loan Balance\", fontsize = 15)\n",
    "plt.xlabel(\"Term in months\", fontsize = 12)\n",
    "plt.ylabel(\"Loan Balance (in USD)\", fontsize = 12)\n",
    "plt.plot()"
   ]
  },
  {
   "cell_type": "code",
   "execution_count": null,
   "metadata": {},
   "outputs": [],
   "source": [
    "plt.figure(figsize = (12, 8))\n",
    "plt.bar(range(1, n*m + 1), -amort, label = \"Principal Payment\")\n",
    "plt.bar(range(1, n*m + 1), -interest, bottom = -amort, label = \"Interest Payment\")\n",
    "plt.legend(fontsize = 20)\n",
    "plt.title(\"Loan Payments\", fontsize = 15)\n",
    "plt.xlabel(\"Term in months\", fontsize = 12)\n",
    "plt.ylabel(\"Payment Amount (in USD)\", fontsize = 12)\n",
    "plt.plot()"
   ]
  },
  {
   "cell_type": "code",
   "execution_count": null,
   "metadata": {},
   "outputs": [],
   "source": []
  },
  {
   "cell_type": "markdown",
   "metadata": {},
   "source": [
    "###  Valuation of Bonds"
   ]
  },
  {
   "cell_type": "markdown",
   "metadata": {},
   "source": [
    "You consider to purchase a Corporate Bond from XYZ Company that pays coupons of 5% p.a. (quarterly in arrears) for the next 6 years and a final repayment at maturity in 6 years. <br>\n",
    "What price are you willing to pay (per 100 USD par value) if bonds with similar risk and maturity have a YTM of 4.5% p.a.?"
   ]
  },
  {
   "cell_type": "code",
   "execution_count": null,
   "metadata": {},
   "outputs": [],
   "source": [
    "import numpy as np"
   ]
  },
  {
   "cell_type": "code",
   "execution_count": null,
   "metadata": {},
   "outputs": [],
   "source": [
    "m = 4\n",
    "coup = 5 / m\n",
    "r = 0.045\n",
    "n = 6\n",
    "FV = 100"
   ]
  },
  {
   "cell_type": "code",
   "execution_count": null,
   "metadata": {},
   "outputs": [],
   "source": [
    "PV = np.pv(rate = r/m, nper = n*m, pmt = coup, fv = FV)\n",
    "PV"
   ]
  },
  {
   "cell_type": "code",
   "execution_count": null,
   "metadata": {},
   "outputs": [],
   "source": []
  },
  {
   "cell_type": "markdown",
   "metadata": {},
   "source": [
    "### Capital Budgeting - Mutually exclusive Projects (Part 1)"
   ]
  },
  {
   "cell_type": "markdown",
   "metadata": {},
   "source": [
    "Company XYZ evaluates two mutually exclusive Investment Projects (A and B) that lead to the following (estimated) increases in company cashflows/profits (in MUSD):\n",
    "\n",
    "- Project A: [20, 30, 40, 50, 100, 200]\n",
    "- Project B: [50, 75, 100, 75, 50, 10]\n",
    "\n",
    "Both projects require an initial Investment of 200 Million USD (to buy Machinery and Plant).\n",
    "\n",
    "The projects are mutually exclusive. Which project should XYZ realize? Assume a company-wide required rate of return of 6.0% p.a. for comparable projects. \n",
    "\n",
    "Calculate the (hypothetical) required rate of return where your decision would change (crossover rate). Visualize!\n"
   ]
  },
  {
   "cell_type": "code",
   "execution_count": null,
   "metadata": {},
   "outputs": [],
   "source": [
    "import numpy as np\n",
    "import matplotlib.pyplot as plt"
   ]
  },
  {
   "cell_type": "code",
   "execution_count": null,
   "metadata": {},
   "outputs": [],
   "source": [
    "cf_A =  [-200, 20, 30, 40, 50, 100, 200]"
   ]
  },
  {
   "cell_type": "code",
   "execution_count": null,
   "metadata": {},
   "outputs": [],
   "source": [
    "cf_B = [-200, 50, 75, 100, 75, 50, 10]"
   ]
  },
  {
   "cell_type": "code",
   "execution_count": null,
   "metadata": {},
   "outputs": [],
   "source": [
    "r = 0.06"
   ]
  },
  {
   "cell_type": "code",
   "execution_count": null,
   "metadata": {},
   "outputs": [],
   "source": [
    "x_axis = np.arange(7)\n",
    "x_axis"
   ]
  },
  {
   "cell_type": "code",
   "execution_count": null,
   "metadata": {},
   "outputs": [],
   "source": [
    "cum_A = np.cumsum(cf_A)\n",
    "cum_A"
   ]
  },
  {
   "cell_type": "code",
   "execution_count": null,
   "metadata": {},
   "outputs": [],
   "source": [
    "cum_B = np.cumsum(cf_B)\n",
    "cum_B"
   ]
  },
  {
   "cell_type": "code",
   "execution_count": null,
   "metadata": {},
   "outputs": [],
   "source": [
    "plt.figure(figsize = (12, 8))\n",
    "plt.plot(x_axis, cum_A, color = \"red\", linewidth = 2, linestyle = \"-\", marker = \"o\", markersize = 10, label = \"Project A\")\n",
    "plt.plot(x_axis, cum_B, color = \"blue\", linewidth = 2, linestyle = \"-\", marker = \"o\", markersize = 10, label = \"Project B\")\n",
    "plt.grid()\n",
    "plt.hlines(y = 0, xmin = x_axis[0], xmax = x_axis[-1], linestyles= \"dashed\", color = \"black\", label = \"Break Even\")\n",
    "plt.title(\"Projects A & B\", fontsize = 15)\n",
    "plt.xlabel(\"Time (in Years)\", fontsize = 12)\n",
    "plt.ylabel(\"Cumul. CF\", fontsize = 12)\n",
    "plt.yticks(range(-200,251,50))\n",
    "plt.xticks(x_axis, labels = [\"t0\", \"t1\", \"t2\", \"t3\", \"t4\", \"t5\", \"t6\"])\n",
    "plt.legend(loc = \"best\", fontsize = 15)\n",
    "plt.show()"
   ]
  },
  {
   "cell_type": "markdown",
   "metadata": {},
   "source": [
    "### Capital Budgeting - Mutually exclusive Projects (Part 2)"
   ]
  },
  {
   "cell_type": "code",
   "execution_count": null,
   "metadata": {},
   "outputs": [],
   "source": [
    "irr_A = np.irr(cf_A)\n",
    "irr_A"
   ]
  },
  {
   "cell_type": "code",
   "execution_count": null,
   "metadata": {},
   "outputs": [],
   "source": [
    "irr_B = np.irr(cf_B)\n",
    "irr_B"
   ]
  },
  {
   "cell_type": "code",
   "execution_count": null,
   "metadata": {},
   "outputs": [],
   "source": [
    "npv_A = np.npv(rate = 0.06, values = cf_A)\n",
    "npv_A"
   ]
  },
  {
   "cell_type": "code",
   "execution_count": null,
   "metadata": {},
   "outputs": [],
   "source": [
    "npv_B = np.npv(rate = 0.06, values = cf_B)\n",
    "npv_B"
   ]
  },
  {
   "cell_type": "code",
   "execution_count": null,
   "metadata": {},
   "outputs": [],
   "source": [
    "rs = np.linspace(start = 0, stop = 0.25, num = 1000)\n",
    "rs"
   ]
  },
  {
   "cell_type": "code",
   "execution_count": null,
   "metadata": {},
   "outputs": [],
   "source": [
    "list_A = []\n",
    "for i in rs:\n",
    "    list_A.append(np.npv(i, cf_A))\n",
    "list_A"
   ]
  },
  {
   "cell_type": "code",
   "execution_count": null,
   "metadata": {
    "scrolled": true
   },
   "outputs": [],
   "source": [
    "list_B = []\n",
    "for i in rs:\n",
    "    list_B.append(np.npv(i, cf_B))\n",
    "list_B"
   ]
  },
  {
   "cell_type": "code",
   "execution_count": null,
   "metadata": {},
   "outputs": [],
   "source": [
    "plt.figure(figsize = (12, 8))\n",
    "plt.plot(rs, list_A, color = \"red\", linewidth = 2, linestyle = \"-\", label = \"Project A\")\n",
    "plt.plot(rs, list_B, color = \"blue\", linewidth = 2, linestyle = \"-\", label = \"Project B\")\n",
    "plt.grid()\n",
    "plt.hlines(y = 0, xmin = rs[0], xmax = rs[-1], linestyles= \"dashed\", color = \"black\", label = \"NPV = 0\")\n",
    "plt.vlines(x = r, ymin = -50, ymax = 250, linestyles= \"dashed\", color = \"green\", label = \"NPVs @ r\")\n",
    "plt.scatter(r, npv_A, s = 100, c = \"red\", marker = \"o\", label = \"NPV Project A\")\n",
    "plt.scatter(r, npv_B, s = 100, c = \"blue\", marker = \"o\", label = \"NPV Project B\")\n",
    "plt.scatter(irr_A, 0, s = 100, c = \"red\", marker = \"s\", label = \"IRR Project A\")\n",
    "plt.scatter(irr_B, 0, s = 100, c = \"blue\", marker = \"s\", label = \"IRR Project B\")\n",
    "#plt.scatter(cr, npvB, s = 400, c = \"m\", marker = \"*\", label = \"Crossover Rate\")\n",
    "plt.xticks(np.arange(26)/100, labels = np.arange(26))\n",
    "plt.yticks(np.arange(-50, 251, 25))\n",
    "plt.title(\"Mutually exclusive Projects A and B\", fontsize = 15)\n",
    "plt.xlabel(\"r (in%)\", fontsize = 12)\n",
    "plt.ylabel(\"NPV\", fontsize = 12)\n",
    "plt.legend(loc = \"best\", fontsize = 15)\n",
    "plt.show()"
   ]
  },
  {
   "cell_type": "markdown",
   "metadata": {},
   "source": [
    "### Capital Budgeting - Mutually exclusive Projects (Part 3)"
   ]
  },
  {
   "cell_type": "code",
   "execution_count": null,
   "metadata": {},
   "outputs": [],
   "source": [
    "cr = 0.00\n",
    "step = 0.000001\n",
    "tolerance = 0.001 \n",
    "\n",
    "while True:\n",
    "    npvA = np.npv(cr, cf_A)\n",
    "    npvB = np.npv(cr, cf_B)\n",
    "    \n",
    "    diff = npvA - npvB\n",
    "    \n",
    "    if abs(diff) > tolerance:\n",
    "        cr += step\n",
    " \n",
    "    else:\n",
    "        break\n",
    "        \n",
    "print(npvA, npvB, cr)"
   ]
  },
  {
   "cell_type": "code",
   "execution_count": null,
   "metadata": {},
   "outputs": [],
   "source": [
    "diff_cf = np.array(cf_A) - np.array(cf_B)\n",
    "diff_cf"
   ]
  },
  {
   "cell_type": "code",
   "execution_count": null,
   "metadata": {},
   "outputs": [],
   "source": [
    "cr = np.irr(diff_cf)\n",
    "cr"
   ]
  },
  {
   "cell_type": "code",
   "execution_count": null,
   "metadata": {},
   "outputs": [],
   "source": []
  },
  {
   "cell_type": "code",
   "execution_count": null,
   "metadata": {},
   "outputs": [],
   "source": []
  }
 ],
 "metadata": {
  "kernelspec": {
   "display_name": "Python 3",
   "language": "python",
   "name": "python3"
  },
  "language_info": {
   "codemirror_mode": {
    "name": "ipython",
    "version": 3
   },
   "file_extension": ".py",
   "mimetype": "text/x-python",
   "name": "python",
   "nbconvert_exporter": "python",
   "pygments_lexer": "ipython3",
   "version": "3.7.4"
  }
 },
 "nbformat": 4,
 "nbformat_minor": 2
}
