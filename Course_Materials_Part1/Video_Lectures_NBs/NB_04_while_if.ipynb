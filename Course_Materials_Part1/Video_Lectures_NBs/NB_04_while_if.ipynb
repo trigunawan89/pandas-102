{
 "cells": [
  {
   "cell_type": "markdown",
   "metadata": {},
   "source": [
    "# Part 1: Python Basics - Code Time Value of Money and Capital Budgeting "
   ]
  },
  {
   "cell_type": "markdown",
   "metadata": {},
   "source": [
    "## Section 4: Solving for IRR and YTM with while Loops and Conditional Statements"
   ]
  },
  {
   "cell_type": "markdown",
   "metadata": {},
   "source": [
    "### Conditional Statements (if, elif, else)"
   ]
  },
  {
   "cell_type": "code",
   "execution_count": null,
   "metadata": {},
   "outputs": [],
   "source": [
    "cf = [-200, 20, 50, 70, 100, 50]"
   ]
  },
  {
   "cell_type": "code",
   "execution_count": null,
   "metadata": {},
   "outputs": [],
   "source": [
    "cf[1] > 0"
   ]
  },
  {
   "cell_type": "code",
   "execution_count": null,
   "metadata": {},
   "outputs": [],
   "source": [
    "if cf[1] > 0:\n",
    "    print(\"positive\")"
   ]
  },
  {
   "cell_type": "code",
   "execution_count": null,
   "metadata": {},
   "outputs": [],
   "source": [
    "if cf[0] > 0:\n",
    "    print(\"positive\")\n",
    "else:\n",
    "    print(\"negative\")"
   ]
  },
  {
   "cell_type": "code",
   "execution_count": null,
   "metadata": {},
   "outputs": [],
   "source": [
    "for i in cf:\n",
    "    if i > 0:\n",
    "        print(\"positive\")\n",
    "    else:\n",
    "        print(\"negative\")"
   ]
  },
  {
   "cell_type": "code",
   "execution_count": null,
   "metadata": {},
   "outputs": [],
   "source": [
    "for i in cf:\n",
    "    if i > 0:\n",
    "        print(\"{} is a positive Cashflow\".format(i))\n",
    "    else: \n",
    "        print(\"{} is a negative Cashflow\".format(i))"
   ]
  },
  {
   "cell_type": "code",
   "execution_count": null,
   "metadata": {},
   "outputs": [],
   "source": [
    "cf.insert(3, 0)"
   ]
  },
  {
   "cell_type": "code",
   "execution_count": null,
   "metadata": {},
   "outputs": [],
   "source": [
    "cf"
   ]
  },
  {
   "cell_type": "code",
   "execution_count": null,
   "metadata": {},
   "outputs": [],
   "source": [
    "for i in cf:\n",
    "    if i > 0:\n",
    "        print(\"{} is a positive Cashflow\".format(i))\n",
    "    elif i < 0: \n",
    "        print(\"{} is a negative Cashflow\".format(i))\n",
    "    else:\n",
    "        print(\"No Cashflow\")"
   ]
  },
  {
   "cell_type": "code",
   "execution_count": null,
   "metadata": {},
   "outputs": [],
   "source": [
    "for i in cf:\n",
    "    if i > 0:\n",
    "        print(\"{} is a positive Cashflow\".format(i))\n",
    "    elif i < 0: \n",
    "        print(\"{} is a negative Cashflow\".format(i))\n",
    "    elif i == 0:\n",
    "        print(\"No Cashflow\")"
   ]
  },
  {
   "cell_type": "code",
   "execution_count": null,
   "metadata": {},
   "outputs": [],
   "source": [
    "cf_pos =[]\n",
    "cf_neg =[]\n",
    "\n",
    "for i in cf:\n",
    "    if i > 0:\n",
    "        cf_pos.append(i)\n",
    "    else:\n",
    "        cf_neg.append(i)\n",
    "print(cf_pos, cf_neg)"
   ]
  },
  {
   "cell_type": "code",
   "execution_count": null,
   "metadata": {},
   "outputs": [],
   "source": [
    "cf_pos =[]\n",
    "cf_neg =[]\n",
    "\n",
    "for i in cf:\n",
    "    if i > 0:\n",
    "        cf_pos.append(i)\n",
    "    elif i < 0:\n",
    "        cf_neg.append(i)\n",
    "print(cf_pos, cf_neg)"
   ]
  },
  {
   "cell_type": "code",
   "execution_count": null,
   "metadata": {},
   "outputs": [],
   "source": []
  },
  {
   "cell_type": "markdown",
   "metadata": {},
   "source": [
    "### Keywords pass, continue and break"
   ]
  },
  {
   "cell_type": "code",
   "execution_count": null,
   "metadata": {},
   "outputs": [],
   "source": [
    "cf = [-200, 20, 50, 70, 0, 100, 50]"
   ]
  },
  {
   "cell_type": "code",
   "execution_count": null,
   "metadata": {},
   "outputs": [],
   "source": [
    "cf_pos =[]\n",
    "cf_neg =[]\n",
    "\n",
    "for i in cf:\n",
    "    if i > 0:\n",
    "        cf_pos.append(i)\n",
    "    elif i < 0:\n",
    "        cf_neg.append(i)\n",
    "    else:\n",
    "        pass\n",
    "print(cf_pos, cf_neg)"
   ]
  },
  {
   "cell_type": "code",
   "execution_count": null,
   "metadata": {},
   "outputs": [],
   "source": [
    "cf_pos =[]\n",
    "cf_neg =[]\n",
    "\n",
    "\n",
    "for i in cf:\n",
    "    if i == 0:\n",
    "        pass\n",
    "    elif i > 0:\n",
    "        cf_pos.append(i)\n",
    "    else:\n",
    "        cf_neg.append(i)\n",
    "print(cf_pos, cf_neg)"
   ]
  },
  {
   "cell_type": "code",
   "execution_count": null,
   "metadata": {},
   "outputs": [],
   "source": [
    "cf_pos =[]\n",
    "cf_neg =[]\n",
    "\n",
    "\n",
    "for i in cf:\n",
    "    if i == 0:\n",
    "        continue\n",
    "        print(\"This is 0\")\n",
    "    elif i > 0:\n",
    "        cf_pos.append(i)\n",
    "    else:\n",
    "        cf_neg.append(i)\n",
    "print(cf_pos, cf_neg)"
   ]
  },
  {
   "cell_type": "code",
   "execution_count": null,
   "metadata": {},
   "outputs": [],
   "source": [
    "cf = [-200, -100, -50, -10, 20, 50, 100, 300, 500, 1000]"
   ]
  },
  {
   "cell_type": "code",
   "execution_count": null,
   "metadata": {},
   "outputs": [],
   "source": [
    "n = 0\n",
    "for i in cf:\n",
    "    if i > 0:\n",
    "        print(\"Year {} is the first profitable year!\".format(n))\n",
    "        break\n",
    "    n += 1"
   ]
  },
  {
   "cell_type": "code",
   "execution_count": null,
   "metadata": {},
   "outputs": [],
   "source": [
    "for i in range(len(cf)):\n",
    "    if cf[i] > 0:\n",
    "        print(\"Year {} is the first profitable year!\".format(i))\n",
    "        break"
   ]
  },
  {
   "cell_type": "code",
   "execution_count": null,
   "metadata": {},
   "outputs": [],
   "source": []
  },
  {
   "cell_type": "markdown",
   "metadata": {},
   "source": [
    "### Calculate a Project´s Payback Period"
   ]
  },
  {
   "cell_type": "markdown",
   "metadata": {},
   "source": [
    "The XYZ Company evaluates to buy an additional machine that will increase profits/cashflows by\n",
    "- 20 USD in t1,\n",
    "- 50 USD in t2, \n",
    "- 70 USD in t3, \n",
    "- 100 USD in t4,\n",
    "- 50 USD in t5. (each cf at period´s end)\n",
    "\n",
    "The machine costs 200 USD (Investment in to). \n",
    "\n",
    "- Calulate the __Payback Period__ (Time until initial Investment is recovered).\n",
    " "
   ]
  },
  {
   "cell_type": "code",
   "execution_count": null,
   "metadata": {},
   "outputs": [],
   "source": [
    "cf = [-200, 20, 50, 70, 100, 50]"
   ]
  },
  {
   "cell_type": "code",
   "execution_count": null,
   "metadata": {},
   "outputs": [],
   "source": [
    "cum_cf = 0\n",
    "for i in range(len(cf)):\n",
    "    cum_cf += cf[i]\n",
    "    #print(cum_cf)\n",
    "    if cum_cf > 0:\n",
    "        print(\"The Project´s Payback Period is {} Years!\".format(i) )\n",
    "        break"
   ]
  },
  {
   "cell_type": "code",
   "execution_count": null,
   "metadata": {},
   "outputs": [],
   "source": [
    "cf = [-200, -150, 50, 70, 100, 50]"
   ]
  },
  {
   "cell_type": "code",
   "execution_count": null,
   "metadata": {},
   "outputs": [],
   "source": [
    "cum_cf = 0\n",
    "for i in range(len(cf)):\n",
    "    cum_cf += cf[i]\n",
    "    #print(cum_cf)\n",
    "    if cum_cf > 0:\n",
    "        print(\"The Project´s Payback Period is {} Years!\".format(i) )\n",
    "        break\n",
    "    elif cum_cf <= 0 and i == len(cf)-1:\n",
    "        print(\"The Project does not break even!\")"
   ]
  },
  {
   "cell_type": "code",
   "execution_count": null,
   "metadata": {},
   "outputs": [],
   "source": []
  },
  {
   "cell_type": "markdown",
   "metadata": {},
   "source": [
    "### While Loops"
   ]
  },
  {
   "cell_type": "code",
   "execution_count": null,
   "metadata": {},
   "outputs": [],
   "source": [
    "a = 10\n",
    "b = 5"
   ]
  },
  {
   "cell_type": "code",
   "execution_count": null,
   "metadata": {},
   "outputs": [],
   "source": [
    "diff = 0"
   ]
  },
  {
   "cell_type": "code",
   "execution_count": null,
   "metadata": {},
   "outputs": [],
   "source": [
    "if a > b:\n",
    "    print((a, b), \"a is still greater than b!\")\n",
    "    a -= 1\n",
    "    diff += 1\n",
    "else:\n",
    "    print(\"The difference is {}!\".format(diff))"
   ]
  },
  {
   "cell_type": "code",
   "execution_count": null,
   "metadata": {},
   "outputs": [],
   "source": [
    "print(a,b)"
   ]
  },
  {
   "cell_type": "code",
   "execution_count": null,
   "metadata": {},
   "outputs": [],
   "source": [
    "a = 10\n",
    "b = 5\n",
    "diff = 0\n",
    "\n",
    "for i in range(4):\n",
    "    if a > b:\n",
    "        print((a, b), \"a is still greater than b!\")\n",
    "        a -= 1\n",
    "        diff += 1\n",
    "    else:\n",
    "        print(\"The difference is {}!\".format(diff))\n",
    "        break"
   ]
  },
  {
   "cell_type": "code",
   "execution_count": null,
   "metadata": {},
   "outputs": [],
   "source": [
    "a = 10\n",
    "b = 5\n",
    "diff = 0\n",
    "while a > b:\n",
    "    print((a, b), \"a is still greater than b!\")\n",
    "    a -= 1\n",
    "    diff += 1\n",
    "print(\"The difference is {}!\".format(diff))"
   ]
  },
  {
   "cell_type": "code",
   "execution_count": null,
   "metadata": {},
   "outputs": [],
   "source": [
    "a"
   ]
  },
  {
   "cell_type": "code",
   "execution_count": null,
   "metadata": {},
   "outputs": [],
   "source": [
    "# this gives an infinite while loop!!! You have to interrupt the Kernel.\n",
    "\n",
    "a = 10\n",
    "b = 5\n",
    "diff = 0\n",
    "while a > b:\n",
    "    print((a, b), \"a is still greater than b!\")\n",
    "    a += 1\n",
    "    diff += 1\n",
    "print(\"The difference is {}!\".format(diff))"
   ]
  },
  {
   "cell_type": "code",
   "execution_count": null,
   "metadata": {},
   "outputs": [],
   "source": []
  },
  {
   "cell_type": "markdown",
   "metadata": {},
   "source": [
    "### Solving for a Project´s IRR "
   ]
  },
  {
   "cell_type": "markdown",
   "metadata": {},
   "source": [
    "The XYZ Company evaluates to buy an additional machine that will increase profits/cashflows by\n",
    "- 20 USD in t1,\n",
    "- 50 USD in t2,\n",
    "- 70 USD in t3, \n",
    "- 100 USD in t4,\n",
    "- 50 USD in t5. (each cf at period´s end)\n",
    "\n",
    "The machine costs 200 USD (Investment in to). \n",
    "\n",
    "- Calculate the __Project´s IRR__ and evaluate whether XYZ should pursue the project. XYZs required rate of return is 6% p.a. "
   ]
  },
  {
   "cell_type": "code",
   "execution_count": null,
   "metadata": {},
   "outputs": [],
   "source": [
    "cf = [-200, 20, 50, 70, 100, 50] "
   ]
  },
  {
   "cell_type": "code",
   "execution_count": null,
   "metadata": {},
   "outputs": [],
   "source": [
    "guess = 0.06"
   ]
  },
  {
   "cell_type": "code",
   "execution_count": null,
   "metadata": {},
   "outputs": [],
   "source": [
    "f = 1 + guess\n",
    "NPV = 0\n",
    "for i in range(len(cf)):\n",
    "    NPV += cf[i] / f**(i)\n",
    "print(NPV)"
   ]
  },
  {
   "cell_type": "code",
   "execution_count": null,
   "metadata": {},
   "outputs": [],
   "source": [
    "guess += 0.01\n",
    "guess"
   ]
  },
  {
   "cell_type": "code",
   "execution_count": null,
   "metadata": {},
   "outputs": [],
   "source": [
    "guess = 0.06\n",
    "f = 1 + guess\n",
    "step = 0.0001\n",
    "NPV = 0\n",
    "for i in range(len(cf)):\n",
    "    NPV += cf[i] / f**(i)\n",
    "NPV"
   ]
  },
  {
   "cell_type": "code",
   "execution_count": null,
   "metadata": {
    "scrolled": true
   },
   "outputs": [],
   "source": [
    "while NPV > 0:\n",
    "    guess += step\n",
    "    f = 1 + guess\n",
    "    NPV = 0\n",
    "    for i in range(len(cf)):\n",
    "        NPV += cf[i] / f**(i)\n",
    "    print(NPV, guess)\n",
    "print(NPV, guess)    "
   ]
  },
  {
   "cell_type": "code",
   "execution_count": null,
   "metadata": {},
   "outputs": [],
   "source": [
    "guess = 0.06\n",
    "step = 0.0001\n",
    "\n",
    "while True:\n",
    "    f = 1 + guess\n",
    "    NPV = 0\n",
    "    for i in range(len(cf)):\n",
    "        NPV += cf[i] / f**(i)\n",
    "    print(NPV, guess)\n",
    "    \n",
    "    if NPV > 0:\n",
    "        guess += step\n",
    "    else:\n",
    "        break \n",
    "\n",
    "print(NPV, guess)"
   ]
  },
  {
   "cell_type": "code",
   "execution_count": null,
   "metadata": {},
   "outputs": [],
   "source": [
    "guess = 0.15\n",
    "step = 0.0001\n",
    "target_npv = 0\n",
    "tolerance = 0.5 \n",
    "\n",
    "while True:\n",
    "    f = 1 + guess\n",
    "    NPV = 0\n",
    "    for i in range(len(cf)):\n",
    "        NPV += cf[i] / f**(i)\n",
    "    print(NPV, guess)\n",
    "    diff = NPV - target_npv\n",
    "    \n",
    "    if abs(diff) > tolerance:\n",
    "        if diff < 0:\n",
    "            guess -= step\n",
    "        elif diff > 0:\n",
    "            guess += step\n",
    "    else:\n",
    "        break\n",
    "        \n",
    "print(NPV, guess) "
   ]
  },
  {
   "cell_type": "code",
   "execution_count": null,
   "metadata": {},
   "outputs": [],
   "source": [
    "guess = 0.06\n",
    "step = 0.000001\n",
    "target_npv = 0\n",
    "tolerance = 0.001 \n",
    "\n",
    "while True:\n",
    "    f = 1 + guess\n",
    "    NPV = 0\n",
    "    for i in range(len(cf)):\n",
    "        NPV += cf[i] / f**(i)\n",
    "    #print(NPV, guess)\n",
    "    diff = NPV - target_npv\n",
    "    \n",
    "    if abs(diff) > tolerance:\n",
    "        if diff < 0:\n",
    "            guess -= step\n",
    "        elif diff > 0:\n",
    "            guess += step\n",
    "    else:\n",
    "        break\n",
    "        \n",
    "print(NPV, guess)        "
   ]
  },
  {
   "cell_type": "code",
   "execution_count": null,
   "metadata": {},
   "outputs": [],
   "source": []
  },
  {
   "cell_type": "code",
   "execution_count": null,
   "metadata": {},
   "outputs": [],
   "source": [
    "wacc = 0.06\n",
    "irr = guess"
   ]
  },
  {
   "cell_type": "code",
   "execution_count": null,
   "metadata": {},
   "outputs": [],
   "source": [
    "if guess > wacc:\n",
    "    print(\"IRR is greater than WACC. Accept the Project!\")\n",
    "else:\n",
    "    print(\"IRR is less than WACC. Reject the Project!\")"
   ]
  },
  {
   "cell_type": "code",
   "execution_count": null,
   "metadata": {},
   "outputs": [],
   "source": []
  },
  {
   "cell_type": "markdown",
   "metadata": {},
   "source": [
    "### Solving for a Bond´s Yield to Maturity (YTM) "
   ]
  },
  {
   "cell_type": "markdown",
   "metadata": {},
   "source": [
    "The XYZ Company issued a 10Y Senior Unsecured Bond one year ago with a Coupon Rate of 5.0% (annual payments in arrears). Today´s Bond Price is 107.5 (per 100 par Value). Calculate the Bond´s __current YTM__."
   ]
  },
  {
   "cell_type": "code",
   "execution_count": null,
   "metadata": {},
   "outputs": [],
   "source": [
    "cf = [5] * 9"
   ]
  },
  {
   "cell_type": "code",
   "execution_count": null,
   "metadata": {},
   "outputs": [],
   "source": [
    "cf[-1] = cf[-1] + 100"
   ]
  },
  {
   "cell_type": "code",
   "execution_count": null,
   "metadata": {},
   "outputs": [],
   "source": [
    "cf.insert(0, -107.5)"
   ]
  },
  {
   "cell_type": "code",
   "execution_count": null,
   "metadata": {},
   "outputs": [],
   "source": [
    "cf"
   ]
  },
  {
   "cell_type": "code",
   "execution_count": null,
   "metadata": {},
   "outputs": [],
   "source": [
    "guess = 0.05\n",
    "step = 0.0000001\n",
    "target_npv = 0\n",
    "tolerance = 0.001 \n",
    "\n",
    "while True:\n",
    "    f = 1 + guess\n",
    "    NPV = 0\n",
    "    for i in range(len(cf)):\n",
    "        NPV += cf[i] / f**(i)\n",
    "    diff = NPV - target_npv\n",
    "    \n",
    "    if abs(diff) > tolerance:\n",
    "        if diff < 0:\n",
    "            guess -= step\n",
    "        elif diff > 0:\n",
    "            guess += step\n",
    "    else:\n",
    "        break\n",
    "        \n",
    "print(NPV, guess)"
   ]
  },
  {
   "cell_type": "code",
   "execution_count": null,
   "metadata": {},
   "outputs": [],
   "source": [
    "print(\"The current YTM for XYZ´s Corporate Bond is {}%!\".format(round(guess, 3) * 100))"
   ]
  },
  {
   "cell_type": "code",
   "execution_count": null,
   "metadata": {},
   "outputs": [],
   "source": []
  }
 ],
 "metadata": {
  "kernelspec": {
   "display_name": "Python 3",
   "language": "python",
   "name": "python3"
  },
  "language_info": {
   "codemirror_mode": {
    "name": "ipython",
    "version": 3
   },
   "file_extension": ".py",
   "mimetype": "text/x-python",
   "name": "python",
   "nbconvert_exporter": "python",
   "pygments_lexer": "ipython3",
   "version": "3.7.4"
  }
 },
 "nbformat": 4,
 "nbformat_minor": 2
}
